{
 "cells": [
  {
   "cell_type": "code",
   "execution_count": 5,
   "id": "0ac542b9-7a97-4800-906a-41d917f6bb0e",
   "metadata": {},
   "outputs": [
    {
     "name": "stdout",
     "output_type": "stream",
     "text": [
      "Successfully installed XlsxWriter-3.0.9 argilla-1.5.1 backoff-2.2.1 click-8.1.3 commonmark-0.9.1 deprecated-1.2.13 et-xmlfile-1.1.0 h11-0.14.0 httpcore-0.16.3 httpx-0.23.3 joblib-1.2.0 markdown-3.4.3 monotonic-1.6 msg_parser-1.2.0 nltk-3.8.1 numpy-1.23.5 olefile-0.46 openpyxl-3.1.2 pillow-9.5.0 pypandoc-1.11 python-docx-0.8.11 python-magic-0.4.27 python-pptx-0.6.21 rfc3986-1.5.0 rich-13.0.1 unstructured-0.5.11 wrapt-1.14.1\n"
     ]
    }
   ],
   "source": [
    "!pip3 install unstructured"
   ]
  },
  {
   "cell_type": "code",
   "execution_count": 14,
   "id": "4055d976-63f8-44b2-a3ea-5e654eb8114e",
   "metadata": {},
   "outputs": [],
   "source": [
    "import os"
   ]
  },
  {
   "cell_type": "code",
   "execution_count": 28,
   "id": "23f3a3b1-b554-4724-8b51-d0ccc61a27d8",
   "metadata": {},
   "outputs": [],
   "source": [
    "from langchain import OpenAI\n",
    "from langchain.document_loaders import TextLoader\n",
    "from langchain.chains.summarize import load_summarize_chain\n",
    "from langchain.text_splitter import CharacterTextSplitter"
   ]
  },
  {
   "cell_type": "code",
   "execution_count": 166,
   "id": "c5368dcf-b2d8-4963-a9d1-e8f9be02e268",
   "metadata": {},
   "outputs": [],
   "source": [
    "os.environ['OPENAI_API_KEY'] = ''"
   ]
  },
  {
   "cell_type": "code",
   "execution_count": 25,
   "id": "c43db724-7399-41ef-8a40-323a8a6f24b6",
   "metadata": {},
   "outputs": [],
   "source": [
    "loader = TextLoader('../data/raw/twitter-tos.txt')"
   ]
  },
  {
   "cell_type": "code",
   "execution_count": 26,
   "id": "6237eee5-d214-4826-99ad-7726b2f9abd6",
   "metadata": {},
   "outputs": [],
   "source": [
    "data = loader.load()"
   ]
  },
  {
   "cell_type": "markdown",
   "id": "82e9b876-6f09-4c78-b58b-63df53b3ab27",
   "metadata": {},
   "source": [
    "### `data` contains the entire Twitter Terms of Service text"
   ]
  },
  {
   "cell_type": "code",
   "execution_count": null,
   "id": "685f3ba5-2d61-4de6-a981-3ef947d97515",
   "metadata": {},
   "outputs": [],
   "source": [
    "data"
   ]
  },
  {
   "cell_type": "markdown",
   "id": "3d754f22-51dc-498d-939e-f84b15e5b0b3",
   "metadata": {},
   "source": [
    "### ToS text is 19731 characters long"
   ]
  },
  {
   "cell_type": "code",
   "execution_count": 19,
   "id": "d05e26c2-9e63-440b-81f6-e2f2b51fc135",
   "metadata": {},
   "outputs": [
    {
     "name": "stdout",
     "output_type": "stream",
     "text": [
      "   19731 ../data/raw/twitter-tos.txt\n"
     ]
    }
   ],
   "source": [
    "!wc -c ../data/raw/twitter-tos.txt"
   ]
  },
  {
   "cell_type": "markdown",
   "id": "4b95179f-fbc9-4648-bf48-1a858bd785d1",
   "metadata": {},
   "source": [
    "### we split the long text into chunks of text size 2000"
   ]
  },
  {
   "cell_type": "code",
   "execution_count": 88,
   "id": "266cad0b-f7ab-4bab-a412-411af3b9c44e",
   "metadata": {},
   "outputs": [
    {
     "name": "stderr",
     "output_type": "stream",
     "text": [
      "Created a chunk of size 2775, which is longer than the specified 2000\n"
     ]
    }
   ],
   "source": [
    "chunked_data = CharacterTextSplitter(chunk_size=2000, chunk_overlap=200).create_documents([data[0].page_content])"
   ]
  },
  {
   "cell_type": "markdown",
   "id": "e4d30365-8c02-4c2d-9e64-0e0497cbe128",
   "metadata": {},
   "source": [
    "### we get 8 chunks"
   ]
  },
  {
   "cell_type": "code",
   "execution_count": 89,
   "id": "9a56402a-c317-4d35-8ada-c5ee496ff37d",
   "metadata": {},
   "outputs": [
    {
     "data": {
      "text/plain": [
       "11"
      ]
     },
     "execution_count": 89,
     "metadata": {},
     "output_type": "execute_result"
    }
   ],
   "source": [
    "len(chunked_data)"
   ]
  },
  {
   "cell_type": "code",
   "execution_count": 90,
   "id": "d51ab1da-c419-4a80-9ada-e86b91dea574",
   "metadata": {},
   "outputs": [
    {
     "data": {
      "text/plain": [
       "Document(page_content='1. Who May Use the Services\\nYou may use the Services only if you agree to form a binding contract with Twitter and are not a person barred from receiving services under the laws of the applicable jurisdiction. In any case, you must be at least 13 years old, or in the case of Periscope 16 years old, to use the Services. If you are accepting these Terms and using the Services on behalf of a company, organization, government, or other legal entity, you represent and warrant that you are authorized to do so and have the authority to bind such entity to these Terms, in which case the words “you” and “your” as used in these Terms shall refer to such entity.\\n\\n \\n2. Privacy\\nOur Privacy Policy (https://www.twitter.com/privacy) describes how we handle the information you provide to us when you use our Services. You understand that through your use of the Services you consent to the collection and use (as set forth in the Privacy Policy) of this information, including the transfer of this information to the United States, Ireland, and/or other countries for storage, processing and use by Twitter and its affiliates.\\n\\n \\n3. Content on the Services\\nYou are responsible for your use of the Services and for any Content you provide, including compliance with applicable laws, rules, and regulations. You should only provide Content that you are comfortable sharing with others.', metadata={})"
      ]
     },
     "execution_count": 90,
     "metadata": {},
     "output_type": "execute_result"
    }
   ],
   "source": [
    "chunked_data[0]"
   ]
  },
  {
   "cell_type": "code",
   "execution_count": 91,
   "id": "fea3e9f0-ba49-4b92-8347-b8db2df5a0e4",
   "metadata": {},
   "outputs": [],
   "source": [
    "small_chunk = chunked_data[0]"
   ]
  },
  {
   "cell_type": "code",
   "execution_count": 92,
   "id": "89432eca-7582-48ff-a2d7-d7bc59ee0514",
   "metadata": {},
   "outputs": [
    {
     "data": {
      "text/plain": [
       "Document(page_content='1. Who May Use the Services\\nYou may use the Services only if you agree to form a binding contract with Twitter and are not a person barred from receiving services under the laws of the applicable jurisdiction. In any case, you must be at least 13 years old, or in the case of Periscope 16 years old, to use the Services. If you are accepting these Terms and using the Services on behalf of a company, organization, government, or other legal entity, you represent and warrant that you are authorized to do so and have the authority to bind such entity to these Terms, in which case the words “you” and “your” as used in these Terms shall refer to such entity.\\n\\n \\n2. Privacy\\nOur Privacy Policy (https://www.twitter.com/privacy) describes how we handle the information you provide to us when you use our Services. You understand that through your use of the Services you consent to the collection and use (as set forth in the Privacy Policy) of this information, including the transfer of this information to the United States, Ireland, and/or other countries for storage, processing and use by Twitter and its affiliates.\\n\\n \\n3. Content on the Services\\nYou are responsible for your use of the Services and for any Content you provide, including compliance with applicable laws, rules, and regulations. You should only provide Content that you are comfortable sharing with others.', metadata={})"
      ]
     },
     "execution_count": 92,
     "metadata": {},
     "output_type": "execute_result"
    }
   ],
   "source": [
    "small_chunk"
   ]
  },
  {
   "cell_type": "code",
   "execution_count": 162,
   "id": "e34edfcd-97fe-4f0a-a239-fe2dad2a0111",
   "metadata": {},
   "outputs": [],
   "source": [
    "llm = OpenAI(temperature=0)"
   ]
  },
  {
   "cell_type": "code",
   "execution_count": 93,
   "id": "39876fe3-ace0-49fe-bce5-b90420b085ab",
   "metadata": {},
   "outputs": [],
   "source": [
    "\n",
    "summary_chain = load_summarize_chain(llm, chain_type='stuff')"
   ]
  },
  {
   "cell_type": "code",
   "execution_count": 94,
   "id": "79fd466e-864f-48b3-bc93-64499d5a863b",
   "metadata": {},
   "outputs": [
    {
     "data": {
      "text/plain": [
       "'\\n\\nTwitter services are available to those aged 13 or older (16 for Periscope). If using the services on behalf of a company, organization, government, or other legal entity, the user must have the authority to bind such entity to the Terms. The Privacy Policy outlines how Twitter handles user information. Users are responsible for their use of the Services and any Content they provide, and must ensure compliance with applicable laws, rules, and regulations.'"
      ]
     },
     "execution_count": 94,
     "metadata": {},
     "output_type": "execute_result"
    }
   ],
   "source": [
    "summary_chain.run([small_chunk])"
   ]
  },
  {
   "cell_type": "markdown",
   "id": "db9e8062-5284-49be-8834-51a37af2316f",
   "metadata": {
    "tags": []
   },
   "source": [
    "### `refine` summarization \n",
    "\n",
    "In this case, summarization is run on the first chunk and is passed as context to the next chunk."
   ]
  },
  {
   "cell_type": "code",
   "execution_count": 95,
   "id": "1bf8e086-ed44-4ce8-8140-158dd4526415",
   "metadata": {},
   "outputs": [],
   "source": [
    "summary_chain = load_summarize_chain(llm, chain_type='refine')"
   ]
  },
  {
   "cell_type": "code",
   "execution_count": 96,
   "id": "43ccc5ec-b49a-4ba9-a788-6c418f217acc",
   "metadata": {},
   "outputs": [
    {
     "data": {
      "text/plain": [
       "'\\n\\nTwitter services are available to those aged 13 or older (16 for Periscope). Users are responsible for their use of the Services and any Content they provide, and must ensure compliance with applicable laws, rules, and regulations. Twitter reserves the right to remove Content that violates the User Agreement and users can report copyright infringement. Users retain their rights to any Content they submit, post or display on or through the Services and grant Twitter a worldwide, non-exclusive, royalty-free license to use, copy, reproduce, process, adapt, modify, publish, transmit, display and distribute such Content. In consideration for Twitter granting access to and use of the Services, users agree that Twitter and its third-party providers and partners may place advertising on the Services or in connection with the display of Content or information from the Services. Users must not misuse the Services, for example, by interfering with them or accessing them using a method other than the interface and the instructions provided. They must not work around any technical limitations in the software provided to them as part of the Services, or reverse engineer, decompile or disassemble the software. They must not access, tamper with, or use non-public areas of the Services, Twitter’s computer systems, or the'"
      ]
     },
     "execution_count": 96,
     "metadata": {},
     "output_type": "execute_result"
    }
   ],
   "source": [
    "summary_chain.run(chunked_data)"
   ]
  },
  {
   "cell_type": "markdown",
   "id": "b9a7b43d-b452-48eb-aeaa-30438170f839",
   "metadata": {},
   "source": [
    "### `map_reduce` summarization \n",
    "\n",
    "In this case, summarization is run on all chunks and then a combiner is used to combine all summaries"
   ]
  },
  {
   "cell_type": "code",
   "execution_count": 97,
   "id": "0b8f3a07-60a8-4bc7-8b6b-65e63c7bc838",
   "metadata": {},
   "outputs": [],
   "source": [
    "summary_chain = load_summarize_chain(llm, chain_type='map_reduce')"
   ]
  },
  {
   "cell_type": "code",
   "execution_count": 117,
   "id": "5641f172-61ce-4fcb-a13d-b90757a8a611",
   "metadata": {},
   "outputs": [
    {
     "name": "stderr",
     "output_type": "stream",
     "text": [
      "Retrying langchain.llms.openai.completion_with_retry.<locals>._completion_with_retry in 4.0 seconds as it raised APIConnectionError: Error communicating with OpenAI: ('Connection aborted.', RemoteDisconnected('Remote end closed connection without response')).\n"
     ]
    },
    {
     "data": {
      "text/plain": [
       "'\\n\\nThe Twitter Terms of Service outlines the responsibilities of users when using the Services, including the responsibility to not post any material subject to copyright or other proprietary rights without the necessary permission or legal entitlement. It also outlines the rights and responsibilities of users when using the Services, such as the right to use, copy, reproduce, process, adapt, modify, publish, transmit, display and distribute their content in any and all media or distribution methods. Additionally, it outlines the terms of use for advertising features of the Services, and the terms of ending a legal agreement with Twitter. Lastly, it states that the Services are provided to the user on an “AS IS” and “AS AVAILABLE” basis, and that the Twitter Entities are not liable for any indirect, incidental, special, consequential or punitive damages. \\n\\nImportant Sections: \\n- Users are responsible for any Content they post and that Twitter does not endorse, support, represent or guarantee the accuracy of any Content. \\n- Twitter grants users a worldwide, non-exclusive, royalty-free license to use, copy, reproduce, process, adapt, modify, publish, transmit, display and distribute their content in any and all media or distribution methods. \\n- Users'"
      ]
     },
     "execution_count": 117,
     "metadata": {},
     "output_type": "execute_result"
    }
   ],
   "source": [
    "summary_chain.run(chunked_data)"
   ]
  },
  {
   "cell_type": "markdown",
   "id": "c17f5802-7464-4308-8c64-860c2f9ddc1f",
   "metadata": {},
   "source": [
    "### using a custom prompt"
   ]
  },
  {
   "cell_type": "code",
   "execution_count": 99,
   "id": "0287c7fb-18f3-4b83-a3cf-6c0377f0c978",
   "metadata": {},
   "outputs": [],
   "source": [
    "from langchain.prompts import PromptTemplate"
   ]
  },
  {
   "cell_type": "code",
   "execution_count": 100,
   "id": "91e5e807-7c0a-4a6b-ba35-c81a0d7848a1",
   "metadata": {},
   "outputs": [],
   "source": [
    "prompt_template = \"\"\"Write a detailed summary of the following:\n",
    "\n",
    "\n",
    "{text}\n",
    "\n",
    "\n",
    "Summary:\"\"\"\n",
    "PROMPT = PromptTemplate(template=prompt_template, input_variables=[\"text\"])"
   ]
  },
  {
   "cell_type": "code",
   "execution_count": 148,
   "id": "e4d71e40-cbfc-4c2b-b837-a2aeb8dc5107",
   "metadata": {},
   "outputs": [],
   "source": [
    "combine_prompt_template = \"\"\"Write a detailed analysis and extract the effective date from the following:\n",
    "\n",
    "\n",
    "{text}\n",
    "\n",
    "\n",
    "Analysis: \"\"\"\n",
    "COMBINE_PROMPT = PromptTemplate(template=combine_prompt_template, input_variables=[\"text\"])"
   ]
  },
  {
   "cell_type": "code",
   "execution_count": 149,
   "id": "f5d8798f-89c9-4bce-a537-747b291a5fbc",
   "metadata": {},
   "outputs": [],
   "source": [
    "summary_chain = load_summarize_chain(llm, chain_type='map_reduce', map_prompt=PROMPT, combine_prompt=COMBINE_PROMPT)"
   ]
  },
  {
   "cell_type": "code",
   "execution_count": 150,
   "id": "9bb2c22a-ddf8-40f8-94c9-edd1f0e7bcaa",
   "metadata": {},
   "outputs": [],
   "source": [
    "output = summary_chain.run(chunked_data)"
   ]
  },
  {
   "cell_type": "code",
   "execution_count": 151,
   "id": "40b28bab-3776-4618-a2f0-37ab81328f35",
   "metadata": {},
   "outputs": [
    {
     "data": {
      "text/plain": [
       "'\\n\\nThe Twitter Terms of Service outlines the responsibilities of users when using the Services, including the responsibility to not misuse the Services, to not reverse engineer, decompile, or disassemble the software, and to not access, tamper with, or use non-public areas of the Services. It also outlines the rights of users, such as the right to reproduce, modify, create derivative works, distribute, sell, transfer, publicly display, publicly perform, transmit, or otherwise use the Services or Content on the Services. Additionally, it outlines the terms of ending a legal agreement with Twitter, such as the right to deactivate an account at any time and the right to file an appeal if an account is terminated in error. Lastly, it outlines the limitations of liability of the Twitter Entities and the governing law of the Terms.\\n\\nEffective Date: The effective date of the Twitter Terms of Service is when the user continues to access or use the Services after revisions become effective.'"
      ]
     },
     "execution_count": 151,
     "metadata": {},
     "output_type": "execute_result"
    }
   ],
   "source": [
    "output"
   ]
  },
  {
   "cell_type": "markdown",
   "id": "b9135563-b0a1-4c1a-8f30-1b721b17f853",
   "metadata": {},
   "source": [
    "## Adding Guardrails"
   ]
  },
  {
   "cell_type": "code",
   "execution_count": null,
   "id": "bf5efef4-4a74-4f50-8865-ff513edb5b55",
   "metadata": {},
   "outputs": [],
   "source": [
    "!pip3 install guardrails-ai"
   ]
  },
  {
   "cell_type": "code",
   "execution_count": 197,
   "id": "a10c7cc9-e915-410a-baa8-5aa09f130fa1",
   "metadata": {},
   "outputs": [],
   "source": [
    "from langchain.output_parsers import GuardrailsOutputParser\n",
    "from rich import print\n",
    "import guardrails as gr"
   ]
  },
  {
   "cell_type": "markdown",
   "id": "e240559f-6bbf-4f88-84a6-b1b5fec9acaa",
   "metadata": {},
   "source": [
    "### create a rail spec"
   ]
  },
  {
   "cell_type": "code",
   "execution_count": 236,
   "id": "86377f4a-8154-46b9-92eb-2261fbb6e699",
   "metadata": {},
   "outputs": [],
   "source": [
    "rail_spec = \"\"\"\n",
    "<rail version=\"0.1\">\n",
    "\n",
    "<output>\n",
    "    <list name=\"winners\">\n",
    "        <object>\n",
    "            <string name=\"person_name\" description=\"Winner Name\"/>\n",
    "            <date name=\"award_year\" description=\"Year\"/>\n",
    "\n",
    "        </object>\n",
    "    </list>\n",
    "</output>\n",
    "\n",
    "<prompt>\n",
    "\n",
    "Give the name and year of nobel peace prize winners\n",
    "\n",
    "@complete_json_suffix_v2\n",
    "</prompt>\n",
    "</rail>\n",
    "\"\"\""
   ]
  },
  {
   "cell_type": "code",
   "execution_count": null,
   "id": "e4eda213-8309-47e8-b2c2-4036662830bc",
   "metadata": {},
   "outputs": [],
   "source": [
    "        "
   ]
  },
  {
   "cell_type": "code",
   "execution_count": 237,
   "id": "eca62b27-6313-4c0f-8eac-9e4740a71dc1",
   "metadata": {},
   "outputs": [],
   "source": [
    "output_parser = GuardrailsOutputParser.from_rail_string(rail_spec)"
   ]
  },
  {
   "cell_type": "code",
   "execution_count": 238,
   "id": "05646060-8a38-421b-9c64-ae35152ee274",
   "metadata": {},
   "outputs": [
    {
     "data": {
      "text/html": [
       "<pre style=\"white-space:pre;overflow-x:auto;line-height:normal;font-family:Menlo,'DejaVu Sans Mono',consolas,'Courier New',monospace\">\n",
       "\n",
       "Give the name and year of nobel peace prize winners\n",
       "\n",
       "\n",
       "Given below is XML that describes the information to extract from this document and the tags to extract it into.\n",
       "\n",
       "<span style=\"font-weight: bold\">&lt;</span><span style=\"color: #ff00ff; text-decoration-color: #ff00ff; font-weight: bold\">output</span><span style=\"color: #000000; text-decoration-color: #000000\">&gt;</span>\n",
       "<span style=\"color: #000000; text-decoration-color: #000000\">    &lt;list </span><span style=\"color: #808000; text-decoration-color: #808000\">name</span><span style=\"color: #000000; text-decoration-color: #000000\">=</span><span style=\"color: #008000; text-decoration-color: #008000\">\"winners\"</span><span style=\"color: #000000; text-decoration-color: #000000\">&gt;</span>\n",
       "<span style=\"color: #000000; text-decoration-color: #000000\">        &lt;object&gt;</span>\n",
       "<span style=\"color: #000000; text-decoration-color: #000000\">            &lt;string </span><span style=\"color: #808000; text-decoration-color: #808000\">name</span><span style=\"color: #000000; text-decoration-color: #000000\">=</span><span style=\"color: #008000; text-decoration-color: #008000\">\"person_name\"</span><span style=\"color: #000000; text-decoration-color: #000000\"> </span><span style=\"color: #808000; text-decoration-color: #808000\">description</span><span style=\"color: #000000; text-decoration-color: #000000\">=</span><span style=\"color: #008000; text-decoration-color: #008000\">\"Winner Name\"</span><span style=\"color: #800080; text-decoration-color: #800080\">/</span><span style=\"color: #000000; text-decoration-color: #000000\">&gt;</span>\n",
       "<span style=\"color: #000000; text-decoration-color: #000000\">            &lt;date </span><span style=\"color: #808000; text-decoration-color: #808000\">name</span><span style=\"color: #000000; text-decoration-color: #000000\">=</span><span style=\"color: #008000; text-decoration-color: #008000\">\"award_year\"</span><span style=\"color: #000000; text-decoration-color: #000000\"> </span><span style=\"color: #808000; text-decoration-color: #808000\">description</span><span style=\"color: #000000; text-decoration-color: #000000\">=</span><span style=\"color: #008000; text-decoration-color: #008000\">\"Year\"</span><span style=\"color: #800080; text-decoration-color: #800080\">/</span><span style=\"color: #000000; text-decoration-color: #000000\">&gt;</span>\n",
       "<span style=\"color: #000000; text-decoration-color: #000000\">        &lt;</span><span style=\"color: #800080; text-decoration-color: #800080\">/</span><span style=\"color: #ff00ff; text-decoration-color: #ff00ff\">object</span><span style=\"color: #000000; text-decoration-color: #000000\">&gt;</span>\n",
       "<span style=\"color: #000000; text-decoration-color: #000000\">    &lt;</span><span style=\"color: #800080; text-decoration-color: #800080\">/</span><span style=\"color: #ff00ff; text-decoration-color: #ff00ff\">list</span><span style=\"color: #000000; text-decoration-color: #000000\">&gt;</span>\n",
       "<span style=\"color: #000000; text-decoration-color: #000000\">&lt;</span><span style=\"color: #800080; text-decoration-color: #800080\">/</span><span style=\"color: #ff00ff; text-decoration-color: #ff00ff\">output</span><span style=\"color: #000000; text-decoration-color: #000000\">&gt;</span>\n",
       "\n",
       "\n",
       "<span style=\"color: #000000; text-decoration-color: #000000\">ONLY return a valid JSON object </span><span style=\"color: #000000; text-decoration-color: #000000; font-weight: bold\">(</span><span style=\"color: #000000; text-decoration-color: #000000\">no other text is necessary</span><span style=\"color: #000000; text-decoration-color: #000000; font-weight: bold\">)</span><span style=\"color: #000000; text-decoration-color: #000000\">, where the key of the field in JSON is the `name` </span>\n",
       "<span style=\"color: #000000; text-decoration-color: #000000\">attribute of the corresponding XML, and the value is of the type specified by the corresponding XML's tag. The JSON</span>\n",
       "<span style=\"color: #000000; text-decoration-color: #000000\">MUST conform to the XML format, including any types and format requests e.g. requests for lists, objects and </span>\n",
       "<span style=\"color: #000000; text-decoration-color: #000000\">specific types. Be correct and concise.</span>\n",
       "\n",
       "<span style=\"color: #000000; text-decoration-color: #000000\">Here are examples of simple </span><span style=\"color: #000000; text-decoration-color: #000000; font-weight: bold\">(</span><span style=\"color: #000000; text-decoration-color: #000000\">XML, JSON</span><span style=\"color: #000000; text-decoration-color: #000000; font-weight: bold\">)</span><span style=\"color: #000000; text-decoration-color: #000000\"> pairs that show the expected behavior:</span>\n",
       "<span style=\"color: #000000; text-decoration-color: #000000\">- `&lt;string </span><span style=\"color: #808000; text-decoration-color: #808000\">name</span><span style=\"color: #000000; text-decoration-color: #000000\">=</span><span style=\"color: #008000; text-decoration-color: #008000\">'foo'</span><span style=\"color: #000000; text-decoration-color: #000000\"> </span><span style=\"color: #808000; text-decoration-color: #808000\">format</span><span style=\"color: #000000; text-decoration-color: #000000\">=</span><span style=\"color: #008000; text-decoration-color: #008000\">'two-words lower-case'</span><span style=\"color: #000000; text-decoration-color: #000000\"> </span><span style=\"color: #800080; text-decoration-color: #800080\">/</span><span style=\"color: #000000; text-decoration-color: #000000\">&gt;` =&gt; `</span><span style=\"color: #000000; text-decoration-color: #000000; font-weight: bold\">{{</span><span style=\"color: #008000; text-decoration-color: #008000\">'foo'</span><span style=\"color: #000000; text-decoration-color: #000000\">: </span><span style=\"color: #008000; text-decoration-color: #008000\">'example one'</span><span style=\"color: #000000; text-decoration-color: #000000; font-weight: bold\">}}</span><span style=\"color: #000000; text-decoration-color: #000000\">`</span>\n",
       "<span style=\"color: #000000; text-decoration-color: #000000\">- `&lt;list </span><span style=\"color: #808000; text-decoration-color: #808000\">name</span><span style=\"color: #000000; text-decoration-color: #000000\">=</span><span style=\"color: #008000; text-decoration-color: #008000\">'bar'</span><span style=\"color: #000000; text-decoration-color: #000000\">&gt;&lt;string </span><span style=\"color: #808000; text-decoration-color: #808000\">format</span><span style=\"color: #000000; text-decoration-color: #000000\">=</span><span style=\"color: #008000; text-decoration-color: #008000\">'upper-case'</span><span style=\"color: #000000; text-decoration-color: #000000\"> </span><span style=\"color: #800080; text-decoration-color: #800080\">/</span><span style=\"color: #000000; text-decoration-color: #000000\">&gt;&lt;</span><span style=\"color: #800080; text-decoration-color: #800080\">/</span><span style=\"color: #ff00ff; text-decoration-color: #ff00ff\">list</span><span style=\"color: #000000; text-decoration-color: #000000\">&gt;` =&gt; `</span><span style=\"color: #000000; text-decoration-color: #000000; font-weight: bold\">{{</span><span style=\"color: #008000; text-decoration-color: #008000\">\"bar\"</span><span style=\"color: #000000; text-decoration-color: #000000\">: </span><span style=\"color: #000000; text-decoration-color: #000000; font-weight: bold\">[</span><span style=\"color: #008000; text-decoration-color: #008000\">'STRING ONE'</span><span style=\"color: #000000; text-decoration-color: #000000\">, </span><span style=\"color: #008000; text-decoration-color: #008000\">'STRING TWO'</span><span style=\"color: #000000; text-decoration-color: #000000\">, etc.</span><span style=\"color: #000000; text-decoration-color: #000000; font-weight: bold\">]}}</span><span style=\"color: #000000; text-decoration-color: #000000\">`</span>\n",
       "<span style=\"color: #000000; text-decoration-color: #000000\">- `&lt;object </span><span style=\"color: #808000; text-decoration-color: #808000\">name</span><span style=\"color: #000000; text-decoration-color: #000000\">=</span><span style=\"color: #008000; text-decoration-color: #008000\">'baz'</span><span style=\"color: #000000; text-decoration-color: #000000\">&gt;&lt;string </span><span style=\"color: #808000; text-decoration-color: #808000\">name</span><span style=\"color: #000000; text-decoration-color: #000000\">=</span><span style=\"color: #008000; text-decoration-color: #008000\">\"foo\"</span><span style=\"color: #000000; text-decoration-color: #000000\"> </span><span style=\"color: #808000; text-decoration-color: #808000\">format</span><span style=\"color: #000000; text-decoration-color: #000000\">=</span><span style=\"color: #008000; text-decoration-color: #008000\">\"capitalize two-words\"</span><span style=\"color: #000000; text-decoration-color: #000000\"> </span><span style=\"color: #800080; text-decoration-color: #800080\">/</span><span style=\"color: #000000; text-decoration-color: #000000\">&gt;&lt;integer </span><span style=\"color: #808000; text-decoration-color: #808000\">name</span><span style=\"color: #000000; text-decoration-color: #000000\">=</span><span style=\"color: #008000; text-decoration-color: #008000\">\"index\"</span><span style=\"color: #000000; text-decoration-color: #000000\"> </span><span style=\"color: #808000; text-decoration-color: #808000\">format</span><span style=\"color: #000000; text-decoration-color: #000000\">=</span><span style=\"color: #008000; text-decoration-color: #008000\">\"1-indexed\"</span><span style=\"color: #000000; text-decoration-color: #000000\"> </span>\n",
       "<span style=\"color: #800080; text-decoration-color: #800080\">/</span><span style=\"color: #000000; text-decoration-color: #000000\">&gt;&lt;</span><span style=\"color: #800080; text-decoration-color: #800080\">/</span><span style=\"color: #ff00ff; text-decoration-color: #ff00ff\">object</span><span style=\"color: #000000; text-decoration-color: #000000\">&gt;` =</span><span style=\"font-weight: bold\">&gt;</span> `<span style=\"font-weight: bold\">{{</span><span style=\"color: #008000; text-decoration-color: #008000\">'baz'</span>: <span style=\"font-weight: bold\">{{</span><span style=\"color: #008000; text-decoration-color: #008000\">'foo'</span>: <span style=\"color: #008000; text-decoration-color: #008000\">'Some String'</span>, <span style=\"color: #008000; text-decoration-color: #008000\">'index'</span>: <span style=\"color: #008080; text-decoration-color: #008080; font-weight: bold\">1</span><span style=\"font-weight: bold\">}}}}</span>`\n",
       "\n",
       "\n",
       "</pre>\n"
      ],
      "text/plain": [
       "\n",
       "\n",
       "Give the name and year of nobel peace prize winners\n",
       "\n",
       "\n",
       "Given below is XML that describes the information to extract from this document and the tags to extract it into.\n",
       "\n",
       "\u001b[1m<\u001b[0m\u001b[1;95moutput\u001b[0m\u001b[39m>\u001b[0m\n",
       "\u001b[39m    <list \u001b[0m\u001b[33mname\u001b[0m\u001b[39m=\u001b[0m\u001b[32m\"winners\"\u001b[0m\u001b[39m>\u001b[0m\n",
       "\u001b[39m        <object>\u001b[0m\n",
       "\u001b[39m            <string \u001b[0m\u001b[33mname\u001b[0m\u001b[39m=\u001b[0m\u001b[32m\"person_name\"\u001b[0m\u001b[39m \u001b[0m\u001b[33mdescription\u001b[0m\u001b[39m=\u001b[0m\u001b[32m\"Winner\u001b[0m\u001b[32m Name\"\u001b[0m\u001b[35m/\u001b[0m\u001b[39m>\u001b[0m\n",
       "\u001b[39m            <date \u001b[0m\u001b[33mname\u001b[0m\u001b[39m=\u001b[0m\u001b[32m\"award_year\"\u001b[0m\u001b[39m \u001b[0m\u001b[33mdescription\u001b[0m\u001b[39m=\u001b[0m\u001b[32m\"Year\"\u001b[0m\u001b[35m/\u001b[0m\u001b[39m>\u001b[0m\n",
       "\u001b[39m        <\u001b[0m\u001b[35m/\u001b[0m\u001b[95mobject\u001b[0m\u001b[39m>\u001b[0m\n",
       "\u001b[39m    <\u001b[0m\u001b[35m/\u001b[0m\u001b[95mlist\u001b[0m\u001b[39m>\u001b[0m\n",
       "\u001b[39m<\u001b[0m\u001b[35m/\u001b[0m\u001b[95moutput\u001b[0m\u001b[39m>\u001b[0m\n",
       "\n",
       "\n",
       "\u001b[39mONLY return a valid JSON object \u001b[0m\u001b[1;39m(\u001b[0m\u001b[39mno other text is necessary\u001b[0m\u001b[1;39m)\u001b[0m\u001b[39m, where the key of the field in JSON is the `name` \u001b[0m\n",
       "\u001b[39mattribute of the corresponding XML, and the value is of the type specified by the corresponding XML's tag. The JSON\u001b[0m\n",
       "\u001b[39mMUST conform to the XML format, including any types and format requests e.g. requests for lists, objects and \u001b[0m\n",
       "\u001b[39mspecific types. Be correct and concise.\u001b[0m\n",
       "\n",
       "\u001b[39mHere are examples of simple \u001b[0m\u001b[1;39m(\u001b[0m\u001b[39mXML, JSON\u001b[0m\u001b[1;39m)\u001b[0m\u001b[39m pairs that show the expected behavior:\u001b[0m\n",
       "\u001b[39m- `<string \u001b[0m\u001b[33mname\u001b[0m\u001b[39m=\u001b[0m\u001b[32m'foo'\u001b[0m\u001b[39m \u001b[0m\u001b[33mformat\u001b[0m\u001b[39m=\u001b[0m\u001b[32m'two-words lower-case'\u001b[0m\u001b[39m \u001b[0m\u001b[35m/\u001b[0m\u001b[39m>` => `\u001b[0m\u001b[1;39m{\u001b[0m\u001b[1;39m{\u001b[0m\u001b[32m'foo'\u001b[0m\u001b[39m: \u001b[0m\u001b[32m'example one'\u001b[0m\u001b[1;39m}\u001b[0m\u001b[1;39m}\u001b[0m\u001b[39m`\u001b[0m\n",
       "\u001b[39m- `<list \u001b[0m\u001b[33mname\u001b[0m\u001b[39m=\u001b[0m\u001b[32m'bar'\u001b[0m\u001b[39m><string \u001b[0m\u001b[33mformat\u001b[0m\u001b[39m=\u001b[0m\u001b[32m'upper-case'\u001b[0m\u001b[39m \u001b[0m\u001b[35m/\u001b[0m\u001b[39m><\u001b[0m\u001b[35m/\u001b[0m\u001b[95mlist\u001b[0m\u001b[39m>` => `\u001b[0m\u001b[1;39m{\u001b[0m\u001b[1;39m{\u001b[0m\u001b[32m\"bar\"\u001b[0m\u001b[39m: \u001b[0m\u001b[1;39m[\u001b[0m\u001b[32m'STRING ONE'\u001b[0m\u001b[39m, \u001b[0m\u001b[32m'STRING TWO'\u001b[0m\u001b[39m, etc.\u001b[0m\u001b[1;39m]\u001b[0m\u001b[1;39m}\u001b[0m\u001b[1;39m}\u001b[0m\u001b[39m`\u001b[0m\n",
       "\u001b[39m- `<object \u001b[0m\u001b[33mname\u001b[0m\u001b[39m=\u001b[0m\u001b[32m'baz'\u001b[0m\u001b[39m><string \u001b[0m\u001b[33mname\u001b[0m\u001b[39m=\u001b[0m\u001b[32m\"foo\"\u001b[0m\u001b[39m \u001b[0m\u001b[33mformat\u001b[0m\u001b[39m=\u001b[0m\u001b[32m\"capitalize\u001b[0m\u001b[32m two-words\"\u001b[0m\u001b[39m \u001b[0m\u001b[35m/\u001b[0m\u001b[39m><integer \u001b[0m\u001b[33mname\u001b[0m\u001b[39m=\u001b[0m\u001b[32m\"index\"\u001b[0m\u001b[39m \u001b[0m\u001b[33mformat\u001b[0m\u001b[39m=\u001b[0m\u001b[32m\"1\u001b[0m\u001b[32m-indexed\"\u001b[0m\u001b[39m \u001b[0m\n",
       "\u001b[35m/\u001b[0m\u001b[39m><\u001b[0m\u001b[35m/\u001b[0m\u001b[95mobject\u001b[0m\u001b[39m>` =\u001b[0m\u001b[1m>\u001b[0m `\u001b[1m{\u001b[0m\u001b[1m{\u001b[0m\u001b[32m'baz'\u001b[0m: \u001b[1m{\u001b[0m\u001b[1m{\u001b[0m\u001b[32m'foo'\u001b[0m: \u001b[32m'Some String'\u001b[0m, \u001b[32m'index'\u001b[0m: \u001b[1;36m1\u001b[0m\u001b[1m}\u001b[0m\u001b[1m}\u001b[0m\u001b[1m}\u001b[0m\u001b[1m}\u001b[0m`\n",
       "\n",
       "\n"
      ]
     },
     "metadata": {},
     "output_type": "display_data"
    }
   ],
   "source": [
    "print(output_parser.guard.base_prompt)\n"
   ]
  },
  {
   "cell_type": "code",
   "execution_count": 239,
   "id": "c738d789-4a5d-4058-aefa-07ead37924d4",
   "metadata": {},
   "outputs": [],
   "source": [
    "prompt = PromptTemplate(\n",
    "    template=output_parser.guard.base_prompt,\n",
    "    input_variables=output_parser.guard.prompt.variable_names,\n",
    ")"
   ]
  },
  {
   "cell_type": "code",
   "execution_count": 240,
   "id": "d0073b05-37f7-42ca-a895-1d818236cb66",
   "metadata": {},
   "outputs": [
    {
     "data": {
      "text/html": [
       "<pre style=\"white-space:pre;overflow-x:auto;line-height:normal;font-family:Menlo,'DejaVu Sans Mono',consolas,'Courier New',monospace\"><span style=\"color: #800080; text-decoration-color: #800080; font-weight: bold\">PromptTemplate</span><span style=\"font-weight: bold\">(</span>\n",
       "    <span style=\"color: #808000; text-decoration-color: #808000\">input_variables</span>=<span style=\"font-weight: bold\">[]</span>,\n",
       "    <span style=\"color: #808000; text-decoration-color: #808000\">output_parser</span>=<span style=\"color: #800080; text-decoration-color: #800080; font-style: italic\">None</span>,\n",
       "    <span style=\"color: #808000; text-decoration-color: #808000\">partial_variables</span>=<span style=\"font-weight: bold\">{}</span>,\n",
       "    <span style=\"color: #808000; text-decoration-color: #808000\">template</span>=<span style=\"color: #008000; text-decoration-color: #008000\">'\\n\\nGive the name and year of nobel peace prize winners\\n\\n\\nGiven below is XML that describes the </span>\n",
       "<span style=\"color: #008000; text-decoration-color: #008000\">information to extract from this document and the tags to extract it into.\\n\\n&lt;output&gt;\\n    &lt;list name=\"winners\"&gt;\\n</span>\n",
       "<span style=\"color: #008000; text-decoration-color: #008000\">&lt;object&gt;\\n            &lt;string name=\"person_name\" description=\"Winner Name\"/&gt;\\n            &lt;date name=\"award_year\" </span>\n",
       "<span style=\"color: #008000; text-decoration-color: #008000\">description=\"Year\"/&gt;\\n        &lt;/object&gt;\\n    &lt;/list&gt;\\n&lt;/output&gt;\\n\\n\\nONLY return a valid JSON object (no other text</span>\n",
       "<span style=\"color: #008000; text-decoration-color: #008000\">is necessary), where the key of the field in JSON is the `name` attribute of the corresponding XML, and the value </span>\n",
       "<span style=\"color: #008000; text-decoration-color: #008000\">is of the type specified by the corresponding XML\\'s tag. The JSON MUST conform to the XML format, including any </span>\n",
       "<span style=\"color: #008000; text-decoration-color: #008000\">types and format requests e.g. requests for lists, objects and specific types. Be correct and concise.\\n\\nHere are </span>\n",
       "<span style=\"color: #008000; text-decoration-color: #008000\">examples of simple (XML, JSON) pairs that show the expected behavior:\\n- `&lt;string name=\\'foo\\' format=\\'two-words </span>\n",
       "<span style=\"color: #008000; text-decoration-color: #008000\">lower-case\\' /&gt;` =&gt; `{{\\'foo\\': \\'example one\\'}}`\\n- `&lt;list name=\\'bar\\'&gt;&lt;string format=\\'upper-case\\' /&gt;&lt;/list&gt;` </span>\n",
       "<span style=\"color: #008000; text-decoration-color: #008000\">=&gt; `{{\"bar\": [\\'STRING ONE\\', \\'STRING TWO\\', etc.]}}`\\n- `&lt;object name=\\'baz\\'&gt;&lt;string name=\"foo\" </span>\n",
       "<span style=\"color: #008000; text-decoration-color: #008000\">format=\"capitalize two-words\" /&gt;&lt;integer name=\"index\" format=\"1-indexed\" /&gt;&lt;/object&gt;` =&gt; `{{\\'baz\\': {{\\'foo\\': </span>\n",
       "<span style=\"color: #008000; text-decoration-color: #008000\">\\'Some String\\', \\'index\\': 1}}}}`\\n\\n'</span>,\n",
       "    <span style=\"color: #808000; text-decoration-color: #808000\">template_format</span>=<span style=\"color: #008000; text-decoration-color: #008000\">'f-string'</span>,\n",
       "    <span style=\"color: #808000; text-decoration-color: #808000\">validate_template</span>=<span style=\"color: #00ff00; text-decoration-color: #00ff00; font-style: italic\">True</span>\n",
       "<span style=\"font-weight: bold\">)</span>\n",
       "</pre>\n"
      ],
      "text/plain": [
       "\u001b[1;35mPromptTemplate\u001b[0m\u001b[1m(\u001b[0m\n",
       "    \u001b[33minput_variables\u001b[0m=\u001b[1m[\u001b[0m\u001b[1m]\u001b[0m,\n",
       "    \u001b[33moutput_parser\u001b[0m=\u001b[3;35mNone\u001b[0m,\n",
       "    \u001b[33mpartial_variables\u001b[0m=\u001b[1m{\u001b[0m\u001b[1m}\u001b[0m,\n",
       "    \u001b[33mtemplate\u001b[0m=\u001b[32m'\\n\\nGive the name and year of nobel peace prize winners\\n\\n\\nGiven below is XML that describes the \u001b[0m\n",
       "\u001b[32minformation to extract from this document and the tags to extract it into.\\n\\n\u001b[0m\u001b[32m<\u001b[0m\u001b[32moutput\u001b[0m\u001b[32m>\\n    <list \u001b[0m\u001b[32mname\u001b[0m\u001b[32m=\u001b[0m\u001b[32m\"winners\"\u001b[0m\u001b[32m>\\n\u001b[0m\n",
       "\u001b[32m<object>\\n            <string \u001b[0m\u001b[32mname\u001b[0m\u001b[32m=\u001b[0m\u001b[32m\"person_name\"\u001b[0m\u001b[32m \u001b[0m\u001b[32mdescription\u001b[0m\u001b[32m=\u001b[0m\u001b[32m\"Winner\u001b[0m\u001b[32m Name\"/>\\n            <date \u001b[0m\u001b[32mname\u001b[0m\u001b[32m=\u001b[0m\u001b[32m\"award_year\"\u001b[0m\u001b[32m \u001b[0m\n",
       "\u001b[32mdescription\u001b[0m\u001b[32m=\u001b[0m\u001b[32m\"Year\"\u001b[0m\u001b[32m/>\\n        </object>\\n    </list>\\n</output>\\n\\n\\nONLY return a valid JSON object \u001b[0m\u001b[32m(\u001b[0m\u001b[32mno other text\u001b[0m\n",
       "\u001b[32mis necessary\u001b[0m\u001b[32m)\u001b[0m\u001b[32m, where the key of the field in JSON is the `name` attribute of the corresponding XML, and the value \u001b[0m\n",
       "\u001b[32mis of the type specified by the corresponding XML\\'s tag. The JSON MUST conform to the XML format, including any \u001b[0m\n",
       "\u001b[32mtypes and format requests e.g. requests for lists, objects and specific types. Be correct and concise.\\n\\nHere are \u001b[0m\n",
       "\u001b[32mexamples of simple \u001b[0m\u001b[32m(\u001b[0m\u001b[32mXML, JSON\u001b[0m\u001b[32m)\u001b[0m\u001b[32m pairs that show the expected behavior:\\n- `<string \u001b[0m\u001b[32mname\u001b[0m\u001b[32m=\\'foo\\' \u001b[0m\u001b[32mformat\u001b[0m\u001b[32m=\\'two-words \u001b[0m\n",
       "\u001b[32mlower-case\\' />` => `\u001b[0m\u001b[32m{\u001b[0m\u001b[32m{\u001b[0m\u001b[32m\\'foo\\': \\'example one\\'\u001b[0m\u001b[32m}\u001b[0m\u001b[32m}\u001b[0m\u001b[32m`\\n- `<list \u001b[0m\u001b[32mname\u001b[0m\u001b[32m=\\'bar\\'><string \u001b[0m\u001b[32mformat\u001b[0m\u001b[32m=\\'upper-case\\' /></list>` \u001b[0m\n",
       "\u001b[32m=> `\u001b[0m\u001b[32m{\u001b[0m\u001b[32m{\u001b[0m\u001b[32m\"bar\": \u001b[0m\u001b[32m[\u001b[0m\u001b[32m\\'STRING ONE\\', \\'STRING TWO\\', etc.\u001b[0m\u001b[32m]\u001b[0m\u001b[32m}\u001b[0m\u001b[32m}\u001b[0m\u001b[32m`\\n- `<object \u001b[0m\u001b[32mname\u001b[0m\u001b[32m=\\'baz\\'><string \u001b[0m\u001b[32mname\u001b[0m\u001b[32m=\u001b[0m\u001b[32m\"foo\"\u001b[0m\u001b[32m \u001b[0m\n",
       "\u001b[32mformat\u001b[0m\u001b[32m=\u001b[0m\u001b[32m\"capitalize\u001b[0m\u001b[32m two-words\" /><integer \u001b[0m\u001b[32mname\u001b[0m\u001b[32m=\u001b[0m\u001b[32m\"index\"\u001b[0m\u001b[32m \u001b[0m\u001b[32mformat\u001b[0m\u001b[32m=\u001b[0m\u001b[32m\"1\u001b[0m\u001b[32m-indexed\" /></object>` =\u001b[0m\u001b[32m>\u001b[0m\u001b[32m `\u001b[0m\u001b[32m{\u001b[0m\u001b[32m{\u001b[0m\u001b[32m\\'baz\\': \u001b[0m\u001b[32m{\u001b[0m\u001b[32m{\u001b[0m\u001b[32m\\'foo\\': \u001b[0m\n",
       "\u001b[32m\\'Some String\\', \\'index\\': 1\u001b[0m\u001b[32m}\u001b[0m\u001b[32m}\u001b[0m\u001b[32m}\u001b[0m\u001b[32m}\u001b[0m\u001b[32m`\\n\\n'\u001b[0m,\n",
       "    \u001b[33mtemplate_format\u001b[0m=\u001b[32m'f-string'\u001b[0m,\n",
       "    \u001b[33mvalidate_template\u001b[0m=\u001b[3;92mTrue\u001b[0m\n",
       "\u001b[1m)\u001b[0m\n"
      ]
     },
     "metadata": {},
     "output_type": "display_data"
    }
   ],
   "source": [
    "print(prompt)"
   ]
  },
  {
   "cell_type": "code",
   "execution_count": 241,
   "id": "55272b31-ba67-44aa-9245-7628b422f06f",
   "metadata": {},
   "outputs": [],
   "source": [
    "llm = OpenAI(temperature=0)"
   ]
  },
  {
   "cell_type": "code",
   "execution_count": 242,
   "id": "b89c6bf5-c759-44c6-947a-75372778e0ef",
   "metadata": {},
   "outputs": [
    {
     "data": {
      "text/plain": [
       "'\\n\\nThe Twitter Terms of Service outlines the responsibilities of users when using the Services, including the responsibility to not misuse the Services, to not reverse engineer, decompile, or disassemble the software, and to not access, tamper with, or use non-public areas of the Services. It also outlines the rights of users, such as the right to reproduce, modify, create derivative works, distribute, sell, transfer, publicly display, publicly perform, transmit, or otherwise use the Services or Content on the Services. Additionally, it outlines the terms of ending a legal agreement with Twitter, such as the right to deactivate an account at any time and the right to file an appeal if an account is terminated in error. Lastly, it outlines the limitations of liability of the Twitter Entities and the governing law of the Terms.\\n\\nEffective Date: The effective date of the Twitter Terms of Service is when the user continues to access or use the Services after revisions become effective.'"
      ]
     },
     "execution_count": 242,
     "metadata": {},
     "output_type": "execute_result"
    }
   ],
   "source": [
    "output"
   ]
  },
  {
   "cell_type": "code",
   "execution_count": 243,
   "id": "3f784c30-caeb-4116-b16c-0ebcfb16fef4",
   "metadata": {},
   "outputs": [
    {
     "data": {
      "text/plain": [
       "'\\n\\nGive the name and year of nobel peace prize winners\\n\\n\\nGiven below is XML that describes the information to extract from this document and the tags to extract it into.\\n\\n<output>\\n    <list name=\"winners\">\\n        <object>\\n            <string name=\"person_name\" description=\"Winner Name\"/>\\n            <date name=\"award_year\" description=\"Year\"/>\\n        </object>\\n    </list>\\n</output>\\n\\n\\nONLY return a valid JSON object (no other text is necessary), where the key of the field in JSON is the `name` attribute of the corresponding XML, and the value is of the type specified by the corresponding XML\\'s tag. The JSON MUST conform to the XML format, including any types and format requests e.g. requests for lists, objects and specific types. Be correct and concise.\\n\\nHere are examples of simple (XML, JSON) pairs that show the expected behavior:\\n- `<string name=\\'foo\\' format=\\'two-words lower-case\\' />` => `{\\'foo\\': \\'example one\\'}`\\n- `<list name=\\'bar\\'><string format=\\'upper-case\\' /></list>` => `{\"bar\": [\\'STRING ONE\\', \\'STRING TWO\\', etc.]}`\\n- `<object name=\\'baz\\'><string name=\"foo\" format=\"capitalize two-words\" /><integer name=\"index\" format=\"1-indexed\" /></object>` => `{\\'baz\\': {\\'foo\\': \\'Some String\\', \\'index\\': 1}}`\\n\\n'"
      ]
     },
     "execution_count": 243,
     "metadata": {},
     "output_type": "execute_result"
    }
   ],
   "source": [
    "prompt.format_prompt().to_string()"
   ]
  },
  {
   "cell_type": "code",
   "execution_count": 244,
   "id": "87b7093f-ffae-4868-8ab5-37b0d2067ec4",
   "metadata": {},
   "outputs": [],
   "source": [
    "llm_output = llm(prompt.format_prompt().to_string(), )"
   ]
  },
  {
   "cell_type": "code",
   "execution_count": 245,
   "id": "864c3419-5493-489c-808d-6307178d0715",
   "metadata": {},
   "outputs": [
    {
     "data": {
      "text/plain": [
       "'\\n{\"winners\": [{\"person_name\": \"Nelson Mandela\", \"award_year\": 1993}, {\"person_name\": \"Malala Yousafzai\", \"award_year\": 2014}]}'"
      ]
     },
     "execution_count": 245,
     "metadata": {},
     "output_type": "execute_result"
    }
   ],
   "source": [
    "llm_output"
   ]
  },
  {
   "cell_type": "code",
   "execution_count": 246,
   "id": "152a7747-6fbe-4a61-b300-c142d7feba08",
   "metadata": {},
   "outputs": [],
   "source": [
    "import openai"
   ]
  },
  {
   "cell_type": "code",
   "execution_count": 247,
   "id": "25fd68c1-e4c2-49a4-b691-1a24f776d5fe",
   "metadata": {},
   "outputs": [],
   "source": [
    "guard = gr.Guard.from_rail_string(rail_spec)"
   ]
  },
  {
   "cell_type": "code",
   "execution_count": 248,
   "id": "94835a1c-8007-4053-b577-602107a25c15",
   "metadata": {},
   "outputs": [
    {
     "data": {
      "text/plain": [
       "Guard(RAIL=Rail(input_schema=InputSchema({}), output_schema=OutputSchema({'winners': List({'item': Object({'person_name': String({}), 'award_year': Date({})})})}), prompt=Prompt(\n",
       "\n",
       "Give the name and year of nobel peace prize winn...), script=Script(variables={}, language='python'), version='0.1'))"
      ]
     },
     "execution_count": 248,
     "metadata": {},
     "output_type": "execute_result"
    }
   ],
   "source": [
    "guard"
   ]
  },
  {
   "cell_type": "code",
   "execution_count": 249,
   "id": "b44b917e-6f02-4a73-a0cf-6cf0c85f97f6",
   "metadata": {},
   "outputs": [
    {
     "ename": "TypeError",
     "evalue": "strptime() argument 1 must be str, not int",
     "output_type": "error",
     "traceback": [
      "\u001b[0;31m---------------------------------------------------------------------------\u001b[0m",
      "\u001b[0;31mTypeError\u001b[0m                                 Traceback (most recent call last)",
      "Cell \u001b[0;32mIn[249], line 1\u001b[0m\n\u001b[0;32m----> 1\u001b[0m raw_llm_response, validated_response \u001b[38;5;241m=\u001b[39m \u001b[43mguard\u001b[49m\u001b[43m(\u001b[49m\n\u001b[1;32m      2\u001b[0m \u001b[43m    \u001b[49m\u001b[43mllm\u001b[49m\n\u001b[1;32m      3\u001b[0m \u001b[43m)\u001b[49m\n",
      "File \u001b[0;32m~/miniconda3/envs/tos-gpt/lib/python3.10/site-packages/guardrails/guard.py:135\u001b[0m, in \u001b[0;36mGuard.__call__\u001b[0;34m(self, llm_api, prompt_params, num_reasks, *args, **kwargs)\u001b[0m\n\u001b[1;32m    127\u001b[0m \u001b[38;5;28;01mwith\u001b[39;00m start_action(action_type\u001b[38;5;241m=\u001b[39m\u001b[38;5;124m\"\u001b[39m\u001b[38;5;124mguard_call\u001b[39m\u001b[38;5;124m\"\u001b[39m, prompt_params\u001b[38;5;241m=\u001b[39mprompt_params):\n\u001b[1;32m    128\u001b[0m     runner \u001b[38;5;241m=\u001b[39m Runner(\n\u001b[1;32m    129\u001b[0m         prompt\u001b[38;5;241m=\u001b[39m\u001b[38;5;28mself\u001b[39m\u001b[38;5;241m.\u001b[39mprompt,\n\u001b[1;32m    130\u001b[0m         api\u001b[38;5;241m=\u001b[39mget_llm_ask(llm_api, \u001b[38;5;241m*\u001b[39margs, \u001b[38;5;241m*\u001b[39m\u001b[38;5;241m*\u001b[39mkwargs),\n\u001b[0;32m   (...)\u001b[0m\n\u001b[1;32m    133\u001b[0m         num_reasks\u001b[38;5;241m=\u001b[39mnum_reasks,\n\u001b[1;32m    134\u001b[0m     )\n\u001b[0;32m--> 135\u001b[0m     guard_history \u001b[38;5;241m=\u001b[39m \u001b[43mrunner\u001b[49m\u001b[43m(\u001b[49m\u001b[43mprompt_params\u001b[49m\u001b[38;5;241;43m=\u001b[39;49m\u001b[43mprompt_params\u001b[49m\u001b[43m)\u001b[49m\n\u001b[1;32m    136\u001b[0m     \u001b[38;5;28mself\u001b[39m\u001b[38;5;241m.\u001b[39mguard_state \u001b[38;5;241m=\u001b[39m \u001b[38;5;28mself\u001b[39m\u001b[38;5;241m.\u001b[39mguard_state\u001b[38;5;241m.\u001b[39mpush(guard_history)\n\u001b[1;32m    137\u001b[0m     \u001b[38;5;28;01mreturn\u001b[39;00m guard_history\u001b[38;5;241m.\u001b[39moutput, guard_history\u001b[38;5;241m.\u001b[39mvalidated_output\n",
      "File \u001b[0;32m~/miniconda3/envs/tos-gpt/lib/python3.10/site-packages/guardrails/run.py:87\u001b[0m, in \u001b[0;36mRunner.__call__\u001b[0;34m(self, prompt_params)\u001b[0m\n\u001b[1;32m     80\u001b[0m prompt, input_schema, output_schema \u001b[38;5;241m=\u001b[39m (\n\u001b[1;32m     81\u001b[0m     \u001b[38;5;28mself\u001b[39m\u001b[38;5;241m.\u001b[39mprompt,\n\u001b[1;32m     82\u001b[0m     \u001b[38;5;28mself\u001b[39m\u001b[38;5;241m.\u001b[39minput_schema,\n\u001b[1;32m     83\u001b[0m     \u001b[38;5;28mself\u001b[39m\u001b[38;5;241m.\u001b[39moutput_schema,\n\u001b[1;32m     84\u001b[0m )\n\u001b[1;32m     85\u001b[0m \u001b[38;5;28;01mfor\u001b[39;00m index \u001b[38;5;129;01min\u001b[39;00m \u001b[38;5;28mrange\u001b[39m(\u001b[38;5;28mself\u001b[39m\u001b[38;5;241m.\u001b[39mnum_reasks \u001b[38;5;241m+\u001b[39m \u001b[38;5;241m1\u001b[39m):\n\u001b[1;32m     86\u001b[0m     \u001b[38;5;66;03m# Run a single step.\u001b[39;00m\n\u001b[0;32m---> 87\u001b[0m     validated_output, reasks \u001b[38;5;241m=\u001b[39m \u001b[38;5;28;43mself\u001b[39;49m\u001b[38;5;241;43m.\u001b[39;49m\u001b[43mstep\u001b[49m\u001b[43m(\u001b[49m\n\u001b[1;32m     88\u001b[0m \u001b[43m        \u001b[49m\u001b[43mindex\u001b[49m\u001b[38;5;241;43m=\u001b[39;49m\u001b[43mindex\u001b[49m\u001b[43m,\u001b[49m\n\u001b[1;32m     89\u001b[0m \u001b[43m        \u001b[49m\u001b[43mapi\u001b[49m\u001b[38;5;241;43m=\u001b[39;49m\u001b[38;5;28;43mself\u001b[39;49m\u001b[38;5;241;43m.\u001b[39;49m\u001b[43mapi\u001b[49m\u001b[43m,\u001b[49m\n\u001b[1;32m     90\u001b[0m \u001b[43m        \u001b[49m\u001b[43mprompt\u001b[49m\u001b[38;5;241;43m=\u001b[39;49m\u001b[43mprompt\u001b[49m\u001b[43m,\u001b[49m\n\u001b[1;32m     91\u001b[0m \u001b[43m        \u001b[49m\u001b[43mprompt_params\u001b[49m\u001b[38;5;241;43m=\u001b[39;49m\u001b[43mprompt_params\u001b[49m\u001b[43m,\u001b[49m\n\u001b[1;32m     92\u001b[0m \u001b[43m        \u001b[49m\u001b[43minput_schema\u001b[49m\u001b[38;5;241;43m=\u001b[39;49m\u001b[43minput_schema\u001b[49m\u001b[43m,\u001b[49m\n\u001b[1;32m     93\u001b[0m \u001b[43m        \u001b[49m\u001b[43moutput_schema\u001b[49m\u001b[38;5;241;43m=\u001b[39;49m\u001b[43moutput_schema\u001b[49m\u001b[43m,\u001b[49m\n\u001b[1;32m     94\u001b[0m \u001b[43m        \u001b[49m\u001b[43moutput\u001b[49m\u001b[38;5;241;43m=\u001b[39;49m\u001b[38;5;28;43mself\u001b[39;49m\u001b[38;5;241;43m.\u001b[39;49m\u001b[43moutput\u001b[49m\u001b[43m \u001b[49m\u001b[38;5;28;43;01mif\u001b[39;49;00m\u001b[43m \u001b[49m\u001b[43mindex\u001b[49m\u001b[43m \u001b[49m\u001b[38;5;241;43m==\u001b[39;49m\u001b[43m \u001b[49m\u001b[38;5;241;43m0\u001b[39;49m\u001b[43m \u001b[49m\u001b[38;5;28;43;01melse\u001b[39;49;00m\u001b[43m \u001b[49m\u001b[38;5;28;43;01mNone\u001b[39;49;00m\u001b[43m,\u001b[49m\n\u001b[1;32m     95\u001b[0m \u001b[43m    \u001b[49m\u001b[43m)\u001b[49m\n\u001b[1;32m     97\u001b[0m     \u001b[38;5;66;03m# Loop again?\u001b[39;00m\n\u001b[1;32m     98\u001b[0m     \u001b[38;5;28;01mif\u001b[39;00m \u001b[38;5;129;01mnot\u001b[39;00m \u001b[38;5;28mself\u001b[39m\u001b[38;5;241m.\u001b[39mdo_loop(index, reasks):\n",
      "File \u001b[0;32m~/miniconda3/envs/tos-gpt/lib/python3.10/site-packages/guardrails/run.py:137\u001b[0m, in \u001b[0;36mRunner.step\u001b[0;34m(self, index, api, prompt, prompt_params, input_schema, output_schema, output)\u001b[0m\n\u001b[1;32m    134\u001b[0m output, output_as_dict \u001b[38;5;241m=\u001b[39m \u001b[38;5;28mself\u001b[39m\u001b[38;5;241m.\u001b[39mcall(index, prompt, api, output)\n\u001b[1;32m    136\u001b[0m \u001b[38;5;66;03m# Validate: run output validation.\u001b[39;00m\n\u001b[0;32m--> 137\u001b[0m validated_output \u001b[38;5;241m=\u001b[39m \u001b[38;5;28;43mself\u001b[39;49m\u001b[38;5;241;43m.\u001b[39;49m\u001b[43mvalidate\u001b[49m\u001b[43m(\u001b[49m\u001b[43mindex\u001b[49m\u001b[43m,\u001b[49m\u001b[43m \u001b[49m\u001b[43moutput_as_dict\u001b[49m\u001b[43m,\u001b[49m\u001b[43m \u001b[49m\u001b[43moutput_schema\u001b[49m\u001b[43m)\u001b[49m\n\u001b[1;32m    139\u001b[0m \u001b[38;5;66;03m# Introspect: inspect validated output for reasks.\u001b[39;00m\n\u001b[1;32m    140\u001b[0m reasks \u001b[38;5;241m=\u001b[39m \u001b[38;5;28mself\u001b[39m\u001b[38;5;241m.\u001b[39mintrospect(index, validated_output)\n",
      "File \u001b[0;32m~/miniconda3/envs/tos-gpt/lib/python3.10/site-packages/guardrails/run.py:222\u001b[0m, in \u001b[0;36mRunner.validate\u001b[0;34m(self, index, output_as_dict, output_schema)\u001b[0m\n\u001b[1;32m    220\u001b[0m \u001b[38;5;124;03m\"\"\"Validate the output.\"\"\"\u001b[39;00m\n\u001b[1;32m    221\u001b[0m \u001b[38;5;28;01mwith\u001b[39;00m start_action(action_type\u001b[38;5;241m=\u001b[39m\u001b[38;5;124m\"\u001b[39m\u001b[38;5;124mvalidate\u001b[39m\u001b[38;5;124m\"\u001b[39m, index\u001b[38;5;241m=\u001b[39mindex) \u001b[38;5;28;01mas\u001b[39;00m action:\n\u001b[0;32m--> 222\u001b[0m     validated_output \u001b[38;5;241m=\u001b[39m \u001b[43moutput_schema\u001b[49m\u001b[38;5;241;43m.\u001b[39;49m\u001b[43mvalidate\u001b[49m\u001b[43m(\u001b[49m\u001b[43moutput_as_dict\u001b[49m\u001b[43m)\u001b[49m\n\u001b[1;32m    223\u001b[0m     action\u001b[38;5;241m.\u001b[39mlog(\n\u001b[1;32m    224\u001b[0m         message_type\u001b[38;5;241m=\u001b[39m\u001b[38;5;124m\"\u001b[39m\u001b[38;5;124minfo\u001b[39m\u001b[38;5;124m\"\u001b[39m,\n\u001b[1;32m    225\u001b[0m         validated_output\u001b[38;5;241m=\u001b[39mreask_json_as_dict(validated_output),\n\u001b[1;32m    226\u001b[0m     )\n\u001b[1;32m    227\u001b[0m     \u001b[38;5;28;01mreturn\u001b[39;00m validated_output\n",
      "File \u001b[0;32m~/miniconda3/envs/tos-gpt/lib/python3.10/site-packages/guardrails/schema.py:329\u001b[0m, in \u001b[0;36mSchema.validate\u001b[0;34m(self, data)\u001b[0m\n\u001b[1;32m    326\u001b[0m         logger\u001b[38;5;241m.\u001b[39mdebug(\u001b[38;5;124mf\u001b[39m\u001b[38;5;124m\"\u001b[39m\u001b[38;5;124mField \u001b[39m\u001b[38;5;132;01m{\u001b[39;00mfield\u001b[38;5;132;01m}\u001b[39;00m\u001b[38;5;124m not in schema.\u001b[39m\u001b[38;5;124m\"\u001b[39m)\n\u001b[1;32m    327\u001b[0m         \u001b[38;5;28;01mcontinue\u001b[39;00m\n\u001b[0;32m--> 329\u001b[0m     validated_response \u001b[38;5;241m=\u001b[39m \u001b[38;5;28;43mself\u001b[39;49m\u001b[43m[\u001b[49m\u001b[43mfield\u001b[49m\u001b[43m]\u001b[49m\u001b[38;5;241;43m.\u001b[39;49m\u001b[43mvalidate\u001b[49m\u001b[43m(\u001b[49m\n\u001b[1;32m    330\u001b[0m \u001b[43m        \u001b[49m\u001b[43mkey\u001b[49m\u001b[38;5;241;43m=\u001b[39;49m\u001b[43mfield\u001b[49m\u001b[43m,\u001b[49m\n\u001b[1;32m    331\u001b[0m \u001b[43m        \u001b[49m\u001b[43mvalue\u001b[49m\u001b[38;5;241;43m=\u001b[39;49m\u001b[43mvalue\u001b[49m\u001b[43m,\u001b[49m\n\u001b[1;32m    332\u001b[0m \u001b[43m        \u001b[49m\u001b[43mschema\u001b[49m\u001b[38;5;241;43m=\u001b[39;49m\u001b[43mvalidated_response\u001b[49m\u001b[43m,\u001b[49m\n\u001b[1;32m    333\u001b[0m \u001b[43m    \u001b[49m\u001b[43m)\u001b[49m\n\u001b[1;32m    335\u001b[0m \u001b[38;5;28;01mif\u001b[39;00m check_refrain_in_dict(validated_response):\n\u001b[1;32m    336\u001b[0m     \u001b[38;5;66;03m# If the data contains a `Refain` value, we return an empty\u001b[39;00m\n\u001b[1;32m    337\u001b[0m     \u001b[38;5;66;03m# dictionary.\u001b[39;00m\n\u001b[1;32m    338\u001b[0m     logger\u001b[38;5;241m.\u001b[39mdebug(\u001b[38;5;124m\"\u001b[39m\u001b[38;5;124mRefrain detected.\u001b[39m\u001b[38;5;124m\"\u001b[39m)\n",
      "File \u001b[0;32m~/miniconda3/envs/tos-gpt/lib/python3.10/site-packages/guardrails/datatypes.py:245\u001b[0m, in \u001b[0;36mList.validate\u001b[0;34m(self, key, value, schema)\u001b[0m\n\u001b[1;32m    243\u001b[0m \u001b[38;5;66;03m# TODO(shreya): Edge case: List of lists -- does this still work?\u001b[39;00m\n\u001b[1;32m    244\u001b[0m \u001b[38;5;28;01mfor\u001b[39;00m i, item \u001b[38;5;129;01min\u001b[39;00m \u001b[38;5;28menumerate\u001b[39m(value):\n\u001b[0;32m--> 245\u001b[0m     value \u001b[38;5;241m=\u001b[39m \u001b[43mitem_type\u001b[49m\u001b[38;5;241;43m.\u001b[39;49m\u001b[43mvalidate\u001b[49m\u001b[43m(\u001b[49m\u001b[43mi\u001b[49m\u001b[43m,\u001b[49m\u001b[43m \u001b[49m\u001b[43mitem\u001b[49m\u001b[43m,\u001b[49m\u001b[43m \u001b[49m\u001b[43mvalue\u001b[49m\u001b[43m)\u001b[49m\n\u001b[1;32m    247\u001b[0m \u001b[38;5;28;01mreturn\u001b[39;00m schema\n",
      "File \u001b[0;32m~/miniconda3/envs/tos-gpt/lib/python3.10/site-packages/guardrails/datatypes.py:285\u001b[0m, in \u001b[0;36mObject.validate\u001b[0;34m(self, key, value, schema)\u001b[0m\n\u001b[1;32m    273\u001b[0m \u001b[38;5;66;03m# Types of supported children\u001b[39;00m\n\u001b[1;32m    274\u001b[0m \u001b[38;5;66;03m# 1. key_type\u001b[39;00m\n\u001b[1;32m    275\u001b[0m \u001b[38;5;66;03m# 2. value_type\u001b[39;00m\n\u001b[0;32m   (...)\u001b[0m\n\u001b[1;32m    279\u001b[0m \n\u001b[1;32m    280\u001b[0m \u001b[38;5;66;03m# Check for required keys\u001b[39;00m\n\u001b[1;32m    281\u001b[0m \u001b[38;5;28;01mfor\u001b[39;00m child_key, child_data_type \u001b[38;5;129;01min\u001b[39;00m \u001b[38;5;28mself\u001b[39m\u001b[38;5;241m.\u001b[39m_children\u001b[38;5;241m.\u001b[39mitems():\n\u001b[1;32m    282\u001b[0m     \u001b[38;5;66;03m# Value should be a dictionary\u001b[39;00m\n\u001b[1;32m    283\u001b[0m     \u001b[38;5;66;03m# child_key is an expected key that the schema defined\u001b[39;00m\n\u001b[1;32m    284\u001b[0m     \u001b[38;5;66;03m# child_data_type is the data type of the expected key\u001b[39;00m\n\u001b[0;32m--> 285\u001b[0m     value \u001b[38;5;241m=\u001b[39m \u001b[43mchild_data_type\u001b[49m\u001b[38;5;241;43m.\u001b[39;49m\u001b[43mvalidate\u001b[49m\u001b[43m(\u001b[49m\n\u001b[1;32m    286\u001b[0m \u001b[43m        \u001b[49m\u001b[43mchild_key\u001b[49m\u001b[43m,\u001b[49m\u001b[43m \u001b[49m\u001b[43mvalue\u001b[49m\u001b[38;5;241;43m.\u001b[39;49m\u001b[43mget\u001b[49m\u001b[43m(\u001b[49m\u001b[43mchild_key\u001b[49m\u001b[43m,\u001b[49m\u001b[43m \u001b[49m\u001b[38;5;28;43;01mNone\u001b[39;49;00m\u001b[43m)\u001b[49m\u001b[43m,\u001b[49m\u001b[43m \u001b[49m\u001b[43mvalue\u001b[49m\n\u001b[1;32m    287\u001b[0m \u001b[43m    \u001b[49m\u001b[43m)\u001b[49m\n\u001b[1;32m    289\u001b[0m schema[key] \u001b[38;5;241m=\u001b[39m value\n\u001b[1;32m    291\u001b[0m \u001b[38;5;28;01mreturn\u001b[39;00m schema\n",
      "File \u001b[0;32m~/miniconda3/envs/tos-gpt/lib/python3.10/site-packages/guardrails/datatypes.py:68\u001b[0m, in \u001b[0;36mDataType.validate\u001b[0;34m(self, key, value, schema)\u001b[0m\n\u001b[1;32m     65\u001b[0m \u001b[38;5;28;01mdef\u001b[39;00m \u001b[38;5;21mvalidate\u001b[39m(\u001b[38;5;28mself\u001b[39m, key: \u001b[38;5;28mstr\u001b[39m, value: Any, schema: Dict) \u001b[38;5;241m-\u001b[39m\u001b[38;5;241m>\u001b[39m Dict:\n\u001b[1;32m     66\u001b[0m     \u001b[38;5;124;03m\"\"\"Validate a value.\"\"\"\u001b[39;00m\n\u001b[0;32m---> 68\u001b[0m     value \u001b[38;5;241m=\u001b[39m \u001b[38;5;28;43mself\u001b[39;49m\u001b[38;5;241;43m.\u001b[39;49m\u001b[43mfrom_str\u001b[49m\u001b[43m(\u001b[49m\u001b[43mvalue\u001b[49m\u001b[43m)\u001b[49m\n\u001b[1;32m     70\u001b[0m     \u001b[38;5;28;01mfor\u001b[39;00m validator \u001b[38;5;129;01min\u001b[39;00m \u001b[38;5;28mself\u001b[39m\u001b[38;5;241m.\u001b[39mvalidators:\n\u001b[1;32m     71\u001b[0m         schema \u001b[38;5;241m=\u001b[39m validator\u001b[38;5;241m.\u001b[39mvalidate_with_correction(key, value, schema)\n",
      "File \u001b[0;32m~/miniconda3/envs/tos-gpt/lib/python3.10/site-packages/guardrails/datatypes.py:187\u001b[0m, in \u001b[0;36mDate.from_str\u001b[0;34m(cls, s)\u001b[0m\n\u001b[1;32m    184\u001b[0m \u001b[38;5;28;01mif\u001b[39;00m s \u001b[38;5;129;01mis\u001b[39;00m \u001b[38;5;28;01mNone\u001b[39;00m:\n\u001b[1;32m    185\u001b[0m     \u001b[38;5;28;01mreturn\u001b[39;00m \u001b[38;5;28;01mNone\u001b[39;00m\n\u001b[0;32m--> 187\u001b[0m \u001b[38;5;28;01mreturn\u001b[39;00m \u001b[43mdatetime\u001b[49m\u001b[38;5;241;43m.\u001b[39;49m\u001b[43mdatetime\u001b[49m\u001b[38;5;241;43m.\u001b[39;49m\u001b[43mstrptime\u001b[49m\u001b[43m(\u001b[49m\u001b[43ms\u001b[49m\u001b[43m,\u001b[49m\u001b[43m \u001b[49m\u001b[38;5;124;43m\"\u001b[39;49m\u001b[38;5;124;43m%\u001b[39;49m\u001b[38;5;124;43mY-\u001b[39;49m\u001b[38;5;124;43m%\u001b[39;49m\u001b[38;5;124;43mm-\u001b[39;49m\u001b[38;5;132;43;01m%d\u001b[39;49;00m\u001b[38;5;124;43m\"\u001b[39;49m\u001b[43m)\u001b[49m\u001b[38;5;241m.\u001b[39mdate()\n",
      "\u001b[0;31mTypeError\u001b[0m: strptime() argument 1 must be str, not int"
     ]
    }
   ],
   "source": [
    "raw_llm_response, validated_response = guard(\n",
    "    llm\n",
    ")"
   ]
  },
  {
   "cell_type": "code",
   "execution_count": null,
   "id": "d6bdf473-8c87-4cac-ad4d-3b85530bbeee",
   "metadata": {},
   "outputs": [],
   "source": []
  },
  {
   "cell_type": "markdown",
   "id": "300697c1-9a69-4091-82ac-3245466994f4",
   "metadata": {},
   "source": [
    "### create a rail spec"
   ]
  },
  {
   "cell_type": "code",
   "execution_count": 292,
   "id": "2b426a1d-179e-401a-8232-0b2b1f238a53",
   "metadata": {},
   "outputs": [],
   "source": [
    "rail_spec = \"\"\"\n",
    "<rail version=\"0.1\">\n",
    "\n",
    "<output>\n",
    "        <object name='driver_details'>\n",
    "            <string name=\"fname\" description=\"First Name\"/>\n",
    "            <string name=\"lname\" description=\"Last Name\"/>\n",
    "            <string name=\"address\" description=\"Address\"/>\n",
    "            <string name=\"issue_date\" description=\"ISS\"/>\n",
    "            <string name=\"exp_date\" description=\"Exp Date\"/>\n",
    "            <string name=\"gender\" description=\"Gender\" format=\"valid-choices: choices=['M', 'F', 'O']\"/>\n",
    "        </object>\n",
    "\n",
    "</output>\n",
    "\n",
    "<prompt>\n",
    "\n",
    "Extract entities from the below ocr output\n",
    "\n",
    "KANSAS DRIVER'S LICENSE \n",
    "\n",
    "\n",
    "u offer utmL 1111512019 \n",
    "4d LIC. NO. K12-34-5679 3 V1115/1998 class A saENDNONE 2..-NONE iss 11/15/2017 4b EXP 11115/2023 SAMPLE 2 NICK 8 123 NORTH STREET APT. KS 66612-1234 15SEX M`.. -17WGT 170 113 16 MGT 6,0r 18EYES BRO \n",
    "11 /15/98 Igx4x.g2=12 \n",
    "\n",
    "@complete_json_suffix_v2\n",
    "</prompt>\n",
    "</rail>\n",
    "\"\"\""
   ]
  },
  {
   "cell_type": "code",
   "execution_count": null,
   "id": "85f5d9b1-2400-4066-880d-d568a5324e80",
   "metadata": {},
   "outputs": [],
   "source": [
    "        "
   ]
  },
  {
   "cell_type": "code",
   "execution_count": 293,
   "id": "b3adbf29-fc54-4d58-970c-435fc251d36a",
   "metadata": {},
   "outputs": [
    {
     "ename": "TypeError",
     "evalue": "ValidChoices.__init__() got multiple values for argument 'on_fail'",
     "output_type": "error",
     "traceback": [
      "\u001b[0;31m---------------------------------------------------------------------------\u001b[0m",
      "\u001b[0;31mTypeError\u001b[0m                                 Traceback (most recent call last)",
      "Cell \u001b[0;32mIn[293], line 1\u001b[0m\n\u001b[0;32m----> 1\u001b[0m output_parser \u001b[38;5;241m=\u001b[39m \u001b[43mGuardrailsOutputParser\u001b[49m\u001b[38;5;241;43m.\u001b[39;49m\u001b[43mfrom_rail_string\u001b[49m\u001b[43m(\u001b[49m\u001b[43mrail_spec\u001b[49m\u001b[43m)\u001b[49m\n",
      "File \u001b[0;32m~/miniconda3/envs/tos-gpt/lib/python3.10/site-packages/langchain/output_parsers/rail_parser.py:37\u001b[0m, in \u001b[0;36mGuardrailsOutputParser.from_rail_string\u001b[0;34m(cls, rail_str, num_reasks)\u001b[0m\n\u001b[1;32m     32\u001b[0m \u001b[38;5;28;01mexcept\u001b[39;00m \u001b[38;5;167;01mImportError\u001b[39;00m:\n\u001b[1;32m     33\u001b[0m     \u001b[38;5;28;01mraise\u001b[39;00m \u001b[38;5;167;01mValueError\u001b[39;00m(\n\u001b[1;32m     34\u001b[0m         \u001b[38;5;124m\"\u001b[39m\u001b[38;5;124mguardrails-ai package not installed. \u001b[39m\u001b[38;5;124m\"\u001b[39m\n\u001b[1;32m     35\u001b[0m         \u001b[38;5;124m\"\u001b[39m\u001b[38;5;124mInstall it by running `pip install guardrails-ai`.\u001b[39m\u001b[38;5;124m\"\u001b[39m\n\u001b[1;32m     36\u001b[0m     )\n\u001b[0;32m---> 37\u001b[0m \u001b[38;5;28;01mreturn\u001b[39;00m \u001b[38;5;28mcls\u001b[39m(guard\u001b[38;5;241m=\u001b[39m\u001b[43mGuard\u001b[49m\u001b[38;5;241;43m.\u001b[39;49m\u001b[43mfrom_rail_string\u001b[49m\u001b[43m(\u001b[49m\u001b[43mrail_str\u001b[49m\u001b[43m,\u001b[49m\u001b[43m \u001b[49m\u001b[43mnum_reasks\u001b[49m\u001b[38;5;241;43m=\u001b[39;49m\u001b[43mnum_reasks\u001b[49m\u001b[43m)\u001b[49m)\n",
      "File \u001b[0;32m~/miniconda3/envs/tos-gpt/lib/python3.10/site-packages/guardrails/guard.py:105\u001b[0m, in \u001b[0;36mGuard.from_rail_string\u001b[0;34m(cls, rail_string, num_reasks)\u001b[0m\n\u001b[1;32m     94\u001b[0m \u001b[38;5;129m@classmethod\u001b[39m\n\u001b[1;32m     95\u001b[0m \u001b[38;5;28;01mdef\u001b[39;00m \u001b[38;5;21mfrom_rail_string\u001b[39m(\u001b[38;5;28mcls\u001b[39m, rail_string: \u001b[38;5;28mstr\u001b[39m, num_reasks: \u001b[38;5;28mint\u001b[39m \u001b[38;5;241m=\u001b[39m \u001b[38;5;241m1\u001b[39m) \u001b[38;5;241m-\u001b[39m\u001b[38;5;241m>\u001b[39m \u001b[38;5;124m\"\u001b[39m\u001b[38;5;124mGuard\u001b[39m\u001b[38;5;124m\"\u001b[39m:\n\u001b[1;32m     96\u001b[0m     \u001b[38;5;124;03m\"\"\"Create a Schema from a `.rail` string.\u001b[39;00m\n\u001b[1;32m     97\u001b[0m \n\u001b[1;32m     98\u001b[0m \u001b[38;5;124;03m    Args:\u001b[39;00m\n\u001b[0;32m   (...)\u001b[0m\n\u001b[1;32m    103\u001b[0m \u001b[38;5;124;03m        An instance of the `Guard` class.\u001b[39;00m\n\u001b[1;32m    104\u001b[0m \u001b[38;5;124;03m    \"\"\"\u001b[39;00m\n\u001b[0;32m--> 105\u001b[0m     \u001b[38;5;28;01mreturn\u001b[39;00m \u001b[38;5;28mcls\u001b[39m(\u001b[43mRail\u001b[49m\u001b[38;5;241;43m.\u001b[39;49m\u001b[43mfrom_string\u001b[49m\u001b[43m(\u001b[49m\u001b[43mrail_string\u001b[49m\u001b[43m)\u001b[49m, num_reasks\u001b[38;5;241m=\u001b[39mnum_reasks)\n",
      "File \u001b[0;32m~/miniconda3/envs/tos-gpt/lib/python3.10/site-packages/guardrails/rail.py:106\u001b[0m, in \u001b[0;36mRail.from_string\u001b[0;34m(cls, string)\u001b[0m\n\u001b[1;32m    104\u001b[0m \u001b[38;5;129m@classmethod\u001b[39m\n\u001b[1;32m    105\u001b[0m \u001b[38;5;28;01mdef\u001b[39;00m \u001b[38;5;21mfrom_string\u001b[39m(\u001b[38;5;28mcls\u001b[39m, string: \u001b[38;5;28mstr\u001b[39m) \u001b[38;5;241m-\u001b[39m\u001b[38;5;241m>\u001b[39m \u001b[38;5;124m\"\u001b[39m\u001b[38;5;124mRail\u001b[39m\u001b[38;5;124m\"\u001b[39m:\n\u001b[0;32m--> 106\u001b[0m     \u001b[38;5;28;01mreturn\u001b[39;00m \u001b[38;5;28;43mcls\u001b[39;49m\u001b[38;5;241;43m.\u001b[39;49m\u001b[43mfrom_xml\u001b[49m\u001b[43m(\u001b[49m\u001b[43mET\u001b[49m\u001b[38;5;241;43m.\u001b[39;49m\u001b[43mfromstring\u001b[49m\u001b[43m(\u001b[49m\u001b[43mstring\u001b[49m\u001b[43m,\u001b[49m\u001b[43m \u001b[49m\u001b[43mparser\u001b[49m\u001b[38;5;241;43m=\u001b[39;49m\u001b[43mXMLPARSER\u001b[49m\u001b[43m)\u001b[49m\u001b[43m)\u001b[49m\n",
      "File \u001b[0;32m~/miniconda3/envs/tos-gpt/lib/python3.10/site-packages/guardrails/rail.py:138\u001b[0m, in \u001b[0;36mRail.from_xml\u001b[0;34m(cls, xml)\u001b[0m\n\u001b[1;32m    136\u001b[0m raw_output_schema \u001b[38;5;241m=\u001b[39m script\u001b[38;5;241m.\u001b[39mreplace_expressions(ET\u001b[38;5;241m.\u001b[39mtostring(raw_output_schema))\n\u001b[1;32m    137\u001b[0m raw_output_schema \u001b[38;5;241m=\u001b[39m ET\u001b[38;5;241m.\u001b[39mfromstring(raw_output_schema, parser\u001b[38;5;241m=\u001b[39mXMLPARSER)\n\u001b[0;32m--> 138\u001b[0m output_schema \u001b[38;5;241m=\u001b[39m \u001b[38;5;28;43mcls\u001b[39;49m\u001b[38;5;241;43m.\u001b[39;49m\u001b[43mload_output_schema\u001b[49m\u001b[43m(\u001b[49m\u001b[43mraw_output_schema\u001b[49m\u001b[43m)\u001b[49m\n\u001b[1;32m    140\u001b[0m \u001b[38;5;66;03m# Load <prompt />\u001b[39;00m\n\u001b[1;32m    141\u001b[0m prompt \u001b[38;5;241m=\u001b[39m xml\u001b[38;5;241m.\u001b[39mfind(\u001b[38;5;124m\"\u001b[39m\u001b[38;5;124mprompt\u001b[39m\u001b[38;5;124m\"\u001b[39m)\n",
      "File \u001b[0;32m~/miniconda3/envs/tos-gpt/lib/python3.10/site-packages/guardrails/rail.py:170\u001b[0m, in \u001b[0;36mRail.load_output_schema\u001b[0;34m(root)\u001b[0m\n\u001b[1;32m    168\u001b[0m \u001b[38;5;124;03m\"\"\"Given the RAIL <output> element, create a Schema object.\"\"\"\u001b[39;00m\n\u001b[1;32m    169\u001b[0m \u001b[38;5;66;03m# Recast the schema as an OutputSchema.\u001b[39;00m\n\u001b[0;32m--> 170\u001b[0m \u001b[38;5;28;01mreturn\u001b[39;00m \u001b[43mOutputSchema\u001b[49m\u001b[43m(\u001b[49m\u001b[43mroot\u001b[49m\u001b[43m)\u001b[49m\n",
      "File \u001b[0;32m~/miniconda3/envs/tos-gpt/lib/python3.10/site-packages/guardrails/schema.py:270\u001b[0m, in \u001b[0;36mSchema.__init__\u001b[0;34m(self, root, schema)\u001b[0m\n\u001b[1;32m    268\u001b[0m     \u001b[38;5;28;01mcontinue\u001b[39;00m\n\u001b[1;32m    269\u001b[0m child_name \u001b[38;5;241m=\u001b[39m child\u001b[38;5;241m.\u001b[39mattrib[\u001b[38;5;124m\"\u001b[39m\u001b[38;5;124mname\u001b[39m\u001b[38;5;124m\"\u001b[39m]\n\u001b[0;32m--> 270\u001b[0m child_data \u001b[38;5;241m=\u001b[39m \u001b[43mtypes_registry\u001b[49m\u001b[43m[\u001b[49m\u001b[43mchild\u001b[49m\u001b[38;5;241;43m.\u001b[39;49m\u001b[43mtag\u001b[49m\u001b[43m]\u001b[49m\u001b[38;5;241;43m.\u001b[39;49m\u001b[43mfrom_xml\u001b[49m\u001b[43m(\u001b[49m\u001b[43mchild\u001b[49m\u001b[43m,\u001b[49m\u001b[43m \u001b[49m\u001b[43mstrict\u001b[49m\u001b[38;5;241;43m=\u001b[39;49m\u001b[43mstrict\u001b[49m\u001b[43m)\u001b[49m\n\u001b[1;32m    271\u001b[0m \u001b[38;5;28mself\u001b[39m[child_name] \u001b[38;5;241m=\u001b[39m child_data\n",
      "File \u001b[0;32m~/miniconda3/envs/tos-gpt/lib/python3.10/site-packages/guardrails/datatypes.py:89\u001b[0m, in \u001b[0;36mDataType.from_xml\u001b[0;34m(cls, element, strict)\u001b[0m\n\u001b[1;32m     86\u001b[0m format_attr\u001b[38;5;241m.\u001b[39mget_validators(strict)\n\u001b[1;32m     88\u001b[0m data_type \u001b[38;5;241m=\u001b[39m \u001b[38;5;28mcls\u001b[39m({}, format_attr, element)\n\u001b[0;32m---> 89\u001b[0m \u001b[43mdata_type\u001b[49m\u001b[38;5;241;43m.\u001b[39;49m\u001b[43mset_children\u001b[49m\u001b[43m(\u001b[49m\u001b[43melement\u001b[49m\u001b[43m)\u001b[49m\n\u001b[1;32m     90\u001b[0m \u001b[38;5;28;01mreturn\u001b[39;00m data_type\n",
      "File \u001b[0;32m~/miniconda3/envs/tos-gpt/lib/python3.10/site-packages/guardrails/datatypes.py:296\u001b[0m, in \u001b[0;36mObject.set_children\u001b[0;34m(self, element)\u001b[0m\n\u001b[1;32m    294\u001b[0m \u001b[38;5;28;01mfor\u001b[39;00m child \u001b[38;5;129;01min\u001b[39;00m element:\n\u001b[1;32m    295\u001b[0m     child_data_type \u001b[38;5;241m=\u001b[39m registry[child\u001b[38;5;241m.\u001b[39mtag]\n\u001b[0;32m--> 296\u001b[0m     \u001b[38;5;28mself\u001b[39m\u001b[38;5;241m.\u001b[39m_children[child\u001b[38;5;241m.\u001b[39mattrib[\u001b[38;5;124m\"\u001b[39m\u001b[38;5;124mname\u001b[39m\u001b[38;5;124m\"\u001b[39m]] \u001b[38;5;241m=\u001b[39m \u001b[43mchild_data_type\u001b[49m\u001b[38;5;241;43m.\u001b[39;49m\u001b[43mfrom_xml\u001b[49m\u001b[43m(\u001b[49m\u001b[43mchild\u001b[49m\u001b[43m)\u001b[49m\n",
      "File \u001b[0;32m~/miniconda3/envs/tos-gpt/lib/python3.10/site-packages/guardrails/datatypes.py:86\u001b[0m, in \u001b[0;36mDataType.from_xml\u001b[0;34m(cls, element, strict)\u001b[0m\n\u001b[1;32m     82\u001b[0m \u001b[38;5;66;03m# TODO: don't want to pass strict through to DataType,\u001b[39;00m\n\u001b[1;32m     83\u001b[0m \u001b[38;5;66;03m# but need to pass it to FormatAttr.from_element\u001b[39;00m\n\u001b[1;32m     84\u001b[0m \u001b[38;5;66;03m# how to handle this?\u001b[39;00m\n\u001b[1;32m     85\u001b[0m format_attr \u001b[38;5;241m=\u001b[39m FormatAttr\u001b[38;5;241m.\u001b[39mfrom_element(element)\n\u001b[0;32m---> 86\u001b[0m \u001b[43mformat_attr\u001b[49m\u001b[38;5;241;43m.\u001b[39;49m\u001b[43mget_validators\u001b[49m\u001b[43m(\u001b[49m\u001b[43mstrict\u001b[49m\u001b[43m)\u001b[49m\n\u001b[1;32m     88\u001b[0m data_type \u001b[38;5;241m=\u001b[39m \u001b[38;5;28mcls\u001b[39m({}, format_attr, element)\n\u001b[1;32m     89\u001b[0m data_type\u001b[38;5;241m.\u001b[39mset_children(element)\n",
      "File \u001b[0;32m~/miniconda3/envs/tos-gpt/lib/python3.10/site-packages/guardrails/schema.py:217\u001b[0m, in \u001b[0;36mFormatAttr.get_validators\u001b[0;34m(self, strict)\u001b[0m\n\u001b[1;32m    211\u001b[0m         on_fail \u001b[38;5;241m=\u001b[39m \u001b[38;5;28mself\u001b[39m\u001b[38;5;241m.\u001b[39melement\u001b[38;5;241m.\u001b[39mattrib[on_fail_attr_name]\n\u001b[1;32m    212\u001b[0m         \u001b[38;5;66;03m# TODO(shreya): Load the on_fail method.\u001b[39;00m\n\u001b[1;32m    213\u001b[0m         \u001b[38;5;66;03m# This method should be loaded from an optional script given at the\u001b[39;00m\n\u001b[1;32m    214\u001b[0m         \u001b[38;5;66;03m# beginning of a rail file.\u001b[39;00m\n\u001b[1;32m    215\u001b[0m \n\u001b[1;32m    216\u001b[0m     \u001b[38;5;66;03m# Create the validator.\u001b[39;00m\n\u001b[0;32m--> 217\u001b[0m     _validators\u001b[38;5;241m.\u001b[39mappend(\u001b[43mvalidator\u001b[49m\u001b[43m(\u001b[49m\u001b[38;5;241;43m*\u001b[39;49m\u001b[43margs\u001b[49m\u001b[43m,\u001b[49m\u001b[43m \u001b[49m\u001b[43mon_fail\u001b[49m\u001b[38;5;241;43m=\u001b[39;49m\u001b[43mon_fail\u001b[49m\u001b[43m)\u001b[49m)\n\u001b[1;32m    219\u001b[0m \u001b[38;5;28mself\u001b[39m\u001b[38;5;241m.\u001b[39m_validators \u001b[38;5;241m=\u001b[39m _validators\n\u001b[1;32m    220\u001b[0m \u001b[38;5;28mself\u001b[39m\u001b[38;5;241m.\u001b[39m_unregistered_validators \u001b[38;5;241m=\u001b[39m _unregistered_validators\n",
      "\u001b[0;31mTypeError\u001b[0m: ValidChoices.__init__() got multiple values for argument 'on_fail'"
     ]
    }
   ],
   "source": [
    "output_parser = GuardrailsOutputParser.from_rail_string(rail_spec)"
   ]
  },
  {
   "cell_type": "code",
   "execution_count": 284,
   "id": "4753769a-4491-4845-8ce6-ac7c8cfac954",
   "metadata": {},
   "outputs": [
    {
     "data": {
      "text/html": [
       "<pre style=\"white-space:pre;overflow-x:auto;line-height:normal;font-family:Menlo,'DejaVu Sans Mono',consolas,'Courier New',monospace\">\n",
       "\n",
       "Extract entities from the below ocr output\n",
       "\n",
       "KANSAS DRIVER'S LICENSE \n",
       "\n",
       "\n",
       "u offer utmL <span style=\"color: #008080; text-decoration-color: #008080; font-weight: bold\">1111512019</span> \n",
       "4d LIC. NO. K12-<span style=\"color: #008080; text-decoration-color: #008080; font-weight: bold\">34</span>-<span style=\"color: #008080; text-decoration-color: #008080; font-weight: bold\">5679</span> <span style=\"color: #008080; text-decoration-color: #008080; font-weight: bold\">3</span> V1115/<span style=\"color: #008080; text-decoration-color: #008080; font-weight: bold\">1998</span> class A saENDNONE <span style=\"color: #008080; text-decoration-color: #008080; font-weight: bold\">2</span>..-NONE iss <span style=\"color: #008080; text-decoration-color: #008080; font-weight: bold\">11</span>/<span style=\"color: #008080; text-decoration-color: #008080; font-weight: bold\">15</span>/<span style=\"color: #008080; text-decoration-color: #008080; font-weight: bold\">2017</span> 4b EXP <span style=\"color: #008080; text-decoration-color: #008080; font-weight: bold\">11115</span>/<span style=\"color: #008080; text-decoration-color: #008080; font-weight: bold\">2023</span> SAMPLE <span style=\"color: #008080; text-decoration-color: #008080; font-weight: bold\">2</span> NICK <span style=\"color: #008080; text-decoration-color: #008080; font-weight: bold\">8</span> \n",
       "<span style=\"color: #008080; text-decoration-color: #008080; font-weight: bold\">123</span> NORTH STREET APT. KS <span style=\"color: #008080; text-decoration-color: #008080; font-weight: bold\">66612</span>-<span style=\"color: #008080; text-decoration-color: #008080; font-weight: bold\">1234</span> 15SEX M`.. -17WGT <span style=\"color: #008080; text-decoration-color: #008080; font-weight: bold\">170</span> <span style=\"color: #008080; text-decoration-color: #008080; font-weight: bold\">113</span> <span style=\"color: #008080; text-decoration-color: #008080; font-weight: bold\">16</span> MGT <span style=\"color: #008080; text-decoration-color: #008080; font-weight: bold\">6</span>,0r 18EYES BRO \n",
       "<span style=\"color: #008080; text-decoration-color: #008080; font-weight: bold\">11</span> <span style=\"color: #800080; text-decoration-color: #800080\">/15/</span><span style=\"color: #ff00ff; text-decoration-color: #ff00ff\">98</span> Igx4x.<span style=\"color: #808000; text-decoration-color: #808000\">g2</span>=<span style=\"color: #008080; text-decoration-color: #008080; font-weight: bold\">12</span> \n",
       "\n",
       "\n",
       "Given below is XML that describes the information to extract from this document and the tags to extract it into.\n",
       "\n",
       "<span style=\"font-weight: bold\">&lt;</span><span style=\"color: #ff00ff; text-decoration-color: #ff00ff; font-weight: bold\">output</span><span style=\"color: #000000; text-decoration-color: #000000\">&gt;</span>\n",
       "<span style=\"color: #000000; text-decoration-color: #000000\">    &lt;object </span><span style=\"color: #808000; text-decoration-color: #808000\">name</span><span style=\"color: #000000; text-decoration-color: #000000\">=</span><span style=\"color: #008000; text-decoration-color: #008000\">\"driver_details\"</span><span style=\"color: #000000; text-decoration-color: #000000\">&gt;</span>\n",
       "<span style=\"color: #000000; text-decoration-color: #000000\">        &lt;string </span><span style=\"color: #808000; text-decoration-color: #808000\">name</span><span style=\"color: #000000; text-decoration-color: #000000\">=</span><span style=\"color: #008000; text-decoration-color: #008000\">\"fname\"</span><span style=\"color: #000000; text-decoration-color: #000000\"> </span><span style=\"color: #808000; text-decoration-color: #808000\">description</span><span style=\"color: #000000; text-decoration-color: #000000\">=</span><span style=\"color: #008000; text-decoration-color: #008000\">\"First Name\"</span><span style=\"color: #800080; text-decoration-color: #800080\">/</span><span style=\"color: #000000; text-decoration-color: #000000\">&gt;</span>\n",
       "<span style=\"color: #000000; text-decoration-color: #000000\">        &lt;string </span><span style=\"color: #808000; text-decoration-color: #808000\">name</span><span style=\"color: #000000; text-decoration-color: #000000\">=</span><span style=\"color: #008000; text-decoration-color: #008000\">\"lname\"</span><span style=\"color: #000000; text-decoration-color: #000000\"> </span><span style=\"color: #808000; text-decoration-color: #808000\">description</span><span style=\"color: #000000; text-decoration-color: #000000\">=</span><span style=\"color: #008000; text-decoration-color: #008000\">\"Last Name\"</span><span style=\"color: #800080; text-decoration-color: #800080\">/</span><span style=\"color: #000000; text-decoration-color: #000000\">&gt;</span>\n",
       "<span style=\"color: #000000; text-decoration-color: #000000\">        &lt;string </span><span style=\"color: #808000; text-decoration-color: #808000\">name</span><span style=\"color: #000000; text-decoration-color: #000000\">=</span><span style=\"color: #008000; text-decoration-color: #008000\">\"address\"</span><span style=\"color: #000000; text-decoration-color: #000000\"> </span><span style=\"color: #808000; text-decoration-color: #808000\">description</span><span style=\"color: #000000; text-decoration-color: #000000\">=</span><span style=\"color: #008000; text-decoration-color: #008000\">\"Address\"</span><span style=\"color: #800080; text-decoration-color: #800080\">/</span><span style=\"color: #000000; text-decoration-color: #000000\">&gt;</span>\n",
       "<span style=\"color: #000000; text-decoration-color: #000000\">        &lt;string </span><span style=\"color: #808000; text-decoration-color: #808000\">name</span><span style=\"color: #000000; text-decoration-color: #000000\">=</span><span style=\"color: #008000; text-decoration-color: #008000\">\"issue_date\"</span><span style=\"color: #000000; text-decoration-color: #000000\"> </span><span style=\"color: #808000; text-decoration-color: #808000\">description</span><span style=\"color: #000000; text-decoration-color: #000000\">=</span><span style=\"color: #008000; text-decoration-color: #008000\">\"ISS\"</span><span style=\"color: #800080; text-decoration-color: #800080\">/</span><span style=\"color: #000000; text-decoration-color: #000000\">&gt;</span>\n",
       "<span style=\"color: #000000; text-decoration-color: #000000\">        &lt;string </span><span style=\"color: #808000; text-decoration-color: #808000\">name</span><span style=\"color: #000000; text-decoration-color: #000000\">=</span><span style=\"color: #008000; text-decoration-color: #008000\">\"exp_date\"</span><span style=\"color: #000000; text-decoration-color: #000000\"> </span><span style=\"color: #808000; text-decoration-color: #808000\">description</span><span style=\"color: #000000; text-decoration-color: #000000\">=</span><span style=\"color: #008000; text-decoration-color: #008000\">\"Exp Date\"</span><span style=\"color: #800080; text-decoration-color: #800080\">/</span><span style=\"color: #000000; text-decoration-color: #000000\">&gt;</span>\n",
       "<span style=\"color: #000000; text-decoration-color: #000000\">        &lt;string </span><span style=\"color: #808000; text-decoration-color: #808000\">name</span><span style=\"color: #000000; text-decoration-color: #000000\">=</span><span style=\"color: #008000; text-decoration-color: #008000\">\"sex\"</span><span style=\"color: #000000; text-decoration-color: #000000\"> </span><span style=\"color: #808000; text-decoration-color: #808000\">description</span><span style=\"color: #000000; text-decoration-color: #000000\">=</span><span style=\"color: #008000; text-decoration-color: #008000\">\"Sex\"</span><span style=\"color: #000000; text-decoration-color: #000000\"> </span><span style=\"color: #808000; text-decoration-color: #808000\">format</span><span style=\"color: #000000; text-decoration-color: #000000\">=</span><span style=\"color: #008000; text-decoration-color: #008000\">\"valid-choice\"</span><span style=\"color: #800080; text-decoration-color: #800080\">/</span><span style=\"color: #000000; text-decoration-color: #000000\">&gt;</span>\n",
       "<span style=\"color: #000000; text-decoration-color: #000000\">    &lt;</span><span style=\"color: #800080; text-decoration-color: #800080\">/</span><span style=\"color: #ff00ff; text-decoration-color: #ff00ff\">object</span><span style=\"color: #000000; text-decoration-color: #000000\">&gt;</span>\n",
       "<span style=\"color: #000000; text-decoration-color: #000000\">&lt;</span><span style=\"color: #800080; text-decoration-color: #800080\">/</span><span style=\"color: #ff00ff; text-decoration-color: #ff00ff\">output</span><span style=\"color: #000000; text-decoration-color: #000000\">&gt;</span>\n",
       "\n",
       "\n",
       "<span style=\"color: #000000; text-decoration-color: #000000\">ONLY return a valid JSON object </span><span style=\"color: #000000; text-decoration-color: #000000; font-weight: bold\">(</span><span style=\"color: #000000; text-decoration-color: #000000\">no other text is necessary</span><span style=\"color: #000000; text-decoration-color: #000000; font-weight: bold\">)</span><span style=\"color: #000000; text-decoration-color: #000000\">, where the key of the field in JSON is the `name` </span>\n",
       "<span style=\"color: #000000; text-decoration-color: #000000\">attribute of the corresponding XML, and the value is of the type specified by the corresponding XML's tag. The JSON</span>\n",
       "<span style=\"color: #000000; text-decoration-color: #000000\">MUST conform to the XML format, including any types and format requests e.g. requests for lists, objects and </span>\n",
       "<span style=\"color: #000000; text-decoration-color: #000000\">specific types. Be correct and concise.</span>\n",
       "\n",
       "<span style=\"color: #000000; text-decoration-color: #000000\">Here are examples of simple </span><span style=\"color: #000000; text-decoration-color: #000000; font-weight: bold\">(</span><span style=\"color: #000000; text-decoration-color: #000000\">XML, JSON</span><span style=\"color: #000000; text-decoration-color: #000000; font-weight: bold\">)</span><span style=\"color: #000000; text-decoration-color: #000000\"> pairs that show the expected behavior:</span>\n",
       "<span style=\"color: #000000; text-decoration-color: #000000\">- `&lt;string </span><span style=\"color: #808000; text-decoration-color: #808000\">name</span><span style=\"color: #000000; text-decoration-color: #000000\">=</span><span style=\"color: #008000; text-decoration-color: #008000\">'foo'</span><span style=\"color: #000000; text-decoration-color: #000000\"> </span><span style=\"color: #808000; text-decoration-color: #808000\">format</span><span style=\"color: #000000; text-decoration-color: #000000\">=</span><span style=\"color: #008000; text-decoration-color: #008000\">'two-words lower-case'</span><span style=\"color: #000000; text-decoration-color: #000000\"> </span><span style=\"color: #800080; text-decoration-color: #800080\">/</span><span style=\"color: #000000; text-decoration-color: #000000\">&gt;` =&gt; `</span><span style=\"color: #000000; text-decoration-color: #000000; font-weight: bold\">{{</span><span style=\"color: #008000; text-decoration-color: #008000\">'foo'</span><span style=\"color: #000000; text-decoration-color: #000000\">: </span><span style=\"color: #008000; text-decoration-color: #008000\">'example one'</span><span style=\"color: #000000; text-decoration-color: #000000; font-weight: bold\">}}</span><span style=\"color: #000000; text-decoration-color: #000000\">`</span>\n",
       "<span style=\"color: #000000; text-decoration-color: #000000\">- `&lt;list </span><span style=\"color: #808000; text-decoration-color: #808000\">name</span><span style=\"color: #000000; text-decoration-color: #000000\">=</span><span style=\"color: #008000; text-decoration-color: #008000\">'bar'</span><span style=\"color: #000000; text-decoration-color: #000000\">&gt;&lt;string </span><span style=\"color: #808000; text-decoration-color: #808000\">format</span><span style=\"color: #000000; text-decoration-color: #000000\">=</span><span style=\"color: #008000; text-decoration-color: #008000\">'upper-case'</span><span style=\"color: #000000; text-decoration-color: #000000\"> </span><span style=\"color: #800080; text-decoration-color: #800080\">/</span><span style=\"color: #000000; text-decoration-color: #000000\">&gt;&lt;</span><span style=\"color: #800080; text-decoration-color: #800080\">/</span><span style=\"color: #ff00ff; text-decoration-color: #ff00ff\">list</span><span style=\"color: #000000; text-decoration-color: #000000\">&gt;` =&gt; `</span><span style=\"color: #000000; text-decoration-color: #000000; font-weight: bold\">{{</span><span style=\"color: #008000; text-decoration-color: #008000\">\"bar\"</span><span style=\"color: #000000; text-decoration-color: #000000\">: </span><span style=\"color: #000000; text-decoration-color: #000000; font-weight: bold\">[</span><span style=\"color: #008000; text-decoration-color: #008000\">'STRING ONE'</span><span style=\"color: #000000; text-decoration-color: #000000\">, </span><span style=\"color: #008000; text-decoration-color: #008000\">'STRING TWO'</span><span style=\"color: #000000; text-decoration-color: #000000\">, etc.</span><span style=\"color: #000000; text-decoration-color: #000000; font-weight: bold\">]}}</span><span style=\"color: #000000; text-decoration-color: #000000\">`</span>\n",
       "<span style=\"color: #000000; text-decoration-color: #000000\">- `&lt;object </span><span style=\"color: #808000; text-decoration-color: #808000\">name</span><span style=\"color: #000000; text-decoration-color: #000000\">=</span><span style=\"color: #008000; text-decoration-color: #008000\">'baz'</span><span style=\"color: #000000; text-decoration-color: #000000\">&gt;&lt;string </span><span style=\"color: #808000; text-decoration-color: #808000\">name</span><span style=\"color: #000000; text-decoration-color: #000000\">=</span><span style=\"color: #008000; text-decoration-color: #008000\">\"foo\"</span><span style=\"color: #000000; text-decoration-color: #000000\"> </span><span style=\"color: #808000; text-decoration-color: #808000\">format</span><span style=\"color: #000000; text-decoration-color: #000000\">=</span><span style=\"color: #008000; text-decoration-color: #008000\">\"capitalize two-words\"</span><span style=\"color: #000000; text-decoration-color: #000000\"> </span><span style=\"color: #800080; text-decoration-color: #800080\">/</span><span style=\"color: #000000; text-decoration-color: #000000\">&gt;&lt;integer </span><span style=\"color: #808000; text-decoration-color: #808000\">name</span><span style=\"color: #000000; text-decoration-color: #000000\">=</span><span style=\"color: #008000; text-decoration-color: #008000\">\"index\"</span><span style=\"color: #000000; text-decoration-color: #000000\"> </span><span style=\"color: #808000; text-decoration-color: #808000\">format</span><span style=\"color: #000000; text-decoration-color: #000000\">=</span><span style=\"color: #008000; text-decoration-color: #008000\">\"1-indexed\"</span><span style=\"color: #000000; text-decoration-color: #000000\"> </span>\n",
       "<span style=\"color: #800080; text-decoration-color: #800080\">/</span><span style=\"color: #000000; text-decoration-color: #000000\">&gt;&lt;</span><span style=\"color: #800080; text-decoration-color: #800080\">/</span><span style=\"color: #ff00ff; text-decoration-color: #ff00ff\">object</span><span style=\"color: #000000; text-decoration-color: #000000\">&gt;` =</span><span style=\"font-weight: bold\">&gt;</span> `<span style=\"font-weight: bold\">{{</span><span style=\"color: #008000; text-decoration-color: #008000\">'baz'</span>: <span style=\"font-weight: bold\">{{</span><span style=\"color: #008000; text-decoration-color: #008000\">'foo'</span>: <span style=\"color: #008000; text-decoration-color: #008000\">'Some String'</span>, <span style=\"color: #008000; text-decoration-color: #008000\">'index'</span>: <span style=\"color: #008080; text-decoration-color: #008080; font-weight: bold\">1</span><span style=\"font-weight: bold\">}}}}</span>`\n",
       "\n",
       "\n",
       "</pre>\n"
      ],
      "text/plain": [
       "\n",
       "\n",
       "Extract entities from the below ocr output\n",
       "\n",
       "KANSAS DRIVER'S LICENSE \n",
       "\n",
       "\n",
       "u offer utmL \u001b[1;36m1111512019\u001b[0m \n",
       "4d LIC. NO. K12-\u001b[1;36m34\u001b[0m-\u001b[1;36m5679\u001b[0m \u001b[1;36m3\u001b[0m V1115/\u001b[1;36m1998\u001b[0m class A saENDNONE \u001b[1;36m2\u001b[0m..-NONE iss \u001b[1;36m11\u001b[0m/\u001b[1;36m15\u001b[0m/\u001b[1;36m2017\u001b[0m 4b EXP \u001b[1;36m11115\u001b[0m/\u001b[1;36m2023\u001b[0m SAMPLE \u001b[1;36m2\u001b[0m NICK \u001b[1;36m8\u001b[0m \n",
       "\u001b[1;36m123\u001b[0m NORTH STREET APT. KS \u001b[1;36m66612\u001b[0m-\u001b[1;36m1234\u001b[0m 15SEX M`.. -17WGT \u001b[1;36m170\u001b[0m \u001b[1;36m113\u001b[0m \u001b[1;36m16\u001b[0m MGT \u001b[1;36m6\u001b[0m,0r 18EYES BRO \n",
       "\u001b[1;36m11\u001b[0m \u001b[35m/15/\u001b[0m\u001b[95m98\u001b[0m Igx4x.\u001b[33mg2\u001b[0m=\u001b[1;36m12\u001b[0m \n",
       "\n",
       "\n",
       "Given below is XML that describes the information to extract from this document and the tags to extract it into.\n",
       "\n",
       "\u001b[1m<\u001b[0m\u001b[1;95moutput\u001b[0m\u001b[39m>\u001b[0m\n",
       "\u001b[39m    <object \u001b[0m\u001b[33mname\u001b[0m\u001b[39m=\u001b[0m\u001b[32m\"driver_details\"\u001b[0m\u001b[39m>\u001b[0m\n",
       "\u001b[39m        <string \u001b[0m\u001b[33mname\u001b[0m\u001b[39m=\u001b[0m\u001b[32m\"fname\"\u001b[0m\u001b[39m \u001b[0m\u001b[33mdescription\u001b[0m\u001b[39m=\u001b[0m\u001b[32m\"First\u001b[0m\u001b[32m Name\"\u001b[0m\u001b[35m/\u001b[0m\u001b[39m>\u001b[0m\n",
       "\u001b[39m        <string \u001b[0m\u001b[33mname\u001b[0m\u001b[39m=\u001b[0m\u001b[32m\"lname\"\u001b[0m\u001b[39m \u001b[0m\u001b[33mdescription\u001b[0m\u001b[39m=\u001b[0m\u001b[32m\"Last\u001b[0m\u001b[32m Name\"\u001b[0m\u001b[35m/\u001b[0m\u001b[39m>\u001b[0m\n",
       "\u001b[39m        <string \u001b[0m\u001b[33mname\u001b[0m\u001b[39m=\u001b[0m\u001b[32m\"address\"\u001b[0m\u001b[39m \u001b[0m\u001b[33mdescription\u001b[0m\u001b[39m=\u001b[0m\u001b[32m\"Address\"\u001b[0m\u001b[35m/\u001b[0m\u001b[39m>\u001b[0m\n",
       "\u001b[39m        <string \u001b[0m\u001b[33mname\u001b[0m\u001b[39m=\u001b[0m\u001b[32m\"issue_date\"\u001b[0m\u001b[39m \u001b[0m\u001b[33mdescription\u001b[0m\u001b[39m=\u001b[0m\u001b[32m\"ISS\"\u001b[0m\u001b[35m/\u001b[0m\u001b[39m>\u001b[0m\n",
       "\u001b[39m        <string \u001b[0m\u001b[33mname\u001b[0m\u001b[39m=\u001b[0m\u001b[32m\"exp_date\"\u001b[0m\u001b[39m \u001b[0m\u001b[33mdescription\u001b[0m\u001b[39m=\u001b[0m\u001b[32m\"Exp\u001b[0m\u001b[32m Date\"\u001b[0m\u001b[35m/\u001b[0m\u001b[39m>\u001b[0m\n",
       "\u001b[39m        <string \u001b[0m\u001b[33mname\u001b[0m\u001b[39m=\u001b[0m\u001b[32m\"sex\"\u001b[0m\u001b[39m \u001b[0m\u001b[33mdescription\u001b[0m\u001b[39m=\u001b[0m\u001b[32m\"Sex\"\u001b[0m\u001b[39m \u001b[0m\u001b[33mformat\u001b[0m\u001b[39m=\u001b[0m\u001b[32m\"valid\u001b[0m\u001b[32m-choice\"\u001b[0m\u001b[35m/\u001b[0m\u001b[39m>\u001b[0m\n",
       "\u001b[39m    <\u001b[0m\u001b[35m/\u001b[0m\u001b[95mobject\u001b[0m\u001b[39m>\u001b[0m\n",
       "\u001b[39m<\u001b[0m\u001b[35m/\u001b[0m\u001b[95moutput\u001b[0m\u001b[39m>\u001b[0m\n",
       "\n",
       "\n",
       "\u001b[39mONLY return a valid JSON object \u001b[0m\u001b[1;39m(\u001b[0m\u001b[39mno other text is necessary\u001b[0m\u001b[1;39m)\u001b[0m\u001b[39m, where the key of the field in JSON is the `name` \u001b[0m\n",
       "\u001b[39mattribute of the corresponding XML, and the value is of the type specified by the corresponding XML's tag. The JSON\u001b[0m\n",
       "\u001b[39mMUST conform to the XML format, including any types and format requests e.g. requests for lists, objects and \u001b[0m\n",
       "\u001b[39mspecific types. Be correct and concise.\u001b[0m\n",
       "\n",
       "\u001b[39mHere are examples of simple \u001b[0m\u001b[1;39m(\u001b[0m\u001b[39mXML, JSON\u001b[0m\u001b[1;39m)\u001b[0m\u001b[39m pairs that show the expected behavior:\u001b[0m\n",
       "\u001b[39m- `<string \u001b[0m\u001b[33mname\u001b[0m\u001b[39m=\u001b[0m\u001b[32m'foo'\u001b[0m\u001b[39m \u001b[0m\u001b[33mformat\u001b[0m\u001b[39m=\u001b[0m\u001b[32m'two-words lower-case'\u001b[0m\u001b[39m \u001b[0m\u001b[35m/\u001b[0m\u001b[39m>` => `\u001b[0m\u001b[1;39m{\u001b[0m\u001b[1;39m{\u001b[0m\u001b[32m'foo'\u001b[0m\u001b[39m: \u001b[0m\u001b[32m'example one'\u001b[0m\u001b[1;39m}\u001b[0m\u001b[1;39m}\u001b[0m\u001b[39m`\u001b[0m\n",
       "\u001b[39m- `<list \u001b[0m\u001b[33mname\u001b[0m\u001b[39m=\u001b[0m\u001b[32m'bar'\u001b[0m\u001b[39m><string \u001b[0m\u001b[33mformat\u001b[0m\u001b[39m=\u001b[0m\u001b[32m'upper-case'\u001b[0m\u001b[39m \u001b[0m\u001b[35m/\u001b[0m\u001b[39m><\u001b[0m\u001b[35m/\u001b[0m\u001b[95mlist\u001b[0m\u001b[39m>` => `\u001b[0m\u001b[1;39m{\u001b[0m\u001b[1;39m{\u001b[0m\u001b[32m\"bar\"\u001b[0m\u001b[39m: \u001b[0m\u001b[1;39m[\u001b[0m\u001b[32m'STRING ONE'\u001b[0m\u001b[39m, \u001b[0m\u001b[32m'STRING TWO'\u001b[0m\u001b[39m, etc.\u001b[0m\u001b[1;39m]\u001b[0m\u001b[1;39m}\u001b[0m\u001b[1;39m}\u001b[0m\u001b[39m`\u001b[0m\n",
       "\u001b[39m- `<object \u001b[0m\u001b[33mname\u001b[0m\u001b[39m=\u001b[0m\u001b[32m'baz'\u001b[0m\u001b[39m><string \u001b[0m\u001b[33mname\u001b[0m\u001b[39m=\u001b[0m\u001b[32m\"foo\"\u001b[0m\u001b[39m \u001b[0m\u001b[33mformat\u001b[0m\u001b[39m=\u001b[0m\u001b[32m\"capitalize\u001b[0m\u001b[32m two-words\"\u001b[0m\u001b[39m \u001b[0m\u001b[35m/\u001b[0m\u001b[39m><integer \u001b[0m\u001b[33mname\u001b[0m\u001b[39m=\u001b[0m\u001b[32m\"index\"\u001b[0m\u001b[39m \u001b[0m\u001b[33mformat\u001b[0m\u001b[39m=\u001b[0m\u001b[32m\"1\u001b[0m\u001b[32m-indexed\"\u001b[0m\u001b[39m \u001b[0m\n",
       "\u001b[35m/\u001b[0m\u001b[39m><\u001b[0m\u001b[35m/\u001b[0m\u001b[95mobject\u001b[0m\u001b[39m>` =\u001b[0m\u001b[1m>\u001b[0m `\u001b[1m{\u001b[0m\u001b[1m{\u001b[0m\u001b[32m'baz'\u001b[0m: \u001b[1m{\u001b[0m\u001b[1m{\u001b[0m\u001b[32m'foo'\u001b[0m: \u001b[32m'Some String'\u001b[0m, \u001b[32m'index'\u001b[0m: \u001b[1;36m1\u001b[0m\u001b[1m}\u001b[0m\u001b[1m}\u001b[0m\u001b[1m}\u001b[0m\u001b[1m}\u001b[0m`\n",
       "\n",
       "\n"
      ]
     },
     "metadata": {},
     "output_type": "display_data"
    }
   ],
   "source": [
    "print(output_parser.guard.base_prompt)\n"
   ]
  },
  {
   "cell_type": "code",
   "execution_count": 285,
   "id": "4e4022b7-bf7f-4a65-a6dd-cf47bee82a91",
   "metadata": {},
   "outputs": [],
   "source": [
    "prompt = PromptTemplate(\n",
    "    template=output_parser.guard.base_prompt,\n",
    "    input_variables=output_parser.guard.prompt.variable_names,\n",
    ")"
   ]
  },
  {
   "cell_type": "code",
   "execution_count": 279,
   "id": "c753e237-2a66-4a57-840a-ef3f623e8789",
   "metadata": {},
   "outputs": [
    {
     "data": {
      "text/html": [
       "<pre style=\"white-space:pre;overflow-x:auto;line-height:normal;font-family:Menlo,'DejaVu Sans Mono',consolas,'Courier New',monospace\"><span style=\"color: #800080; text-decoration-color: #800080; font-weight: bold\">PromptTemplate</span><span style=\"font-weight: bold\">(</span>\n",
       "    <span style=\"color: #808000; text-decoration-color: #808000\">input_variables</span>=<span style=\"font-weight: bold\">[]</span>,\n",
       "    <span style=\"color: #808000; text-decoration-color: #808000\">output_parser</span>=<span style=\"color: #800080; text-decoration-color: #800080; font-style: italic\">None</span>,\n",
       "    <span style=\"color: #808000; text-decoration-color: #808000\">partial_variables</span>=<span style=\"font-weight: bold\">{}</span>,\n",
       "    <span style=\"color: #808000; text-decoration-color: #808000\">template</span>=<span style=\"color: #008000; text-decoration-color: #008000\">'\\n\\nExtract entities from the below ocr output\\n\\nKANSAS DRIVER\\'S LICENSE \\n\\n\\nu offer utmL </span>\n",
       "<span style=\"color: #008000; text-decoration-color: #008000\">1111512019 \\n4d LIC. NO. K12-34-5679 3 V1115/1998 class A saENDNONE 2..-NONE iss 11/15/2017 4b EXP 11115/2023 </span>\n",
       "<span style=\"color: #008000; text-decoration-color: #008000\">SAMPLE 2 NICK 8 123 NORTH STREET APT. KS 66612-1234 15SEX M`.. -17WGT 170 113 16 MGT 6,0r 18EYES BRO \\n11 /15/98 </span>\n",
       "<span style=\"color: #008000; text-decoration-color: #008000\">Igx4x.g2=12 \\n\\n\\nGiven below is XML that describes the information to extract from this document and the tags to </span>\n",
       "<span style=\"color: #008000; text-decoration-color: #008000\">extract it into.\\n\\n&lt;output&gt;\\n    &lt;object name=\"driver_details\"&gt;\\n        &lt;string name=\"fname\" description=\"First </span>\n",
       "<span style=\"color: #008000; text-decoration-color: #008000\">Name\"/&gt;\\n        &lt;string name=\"lname\" description=\"Last Name\"/&gt;\\n        &lt;string name=\"address\" </span>\n",
       "<span style=\"color: #008000; text-decoration-color: #008000\">description=\"Address\"/&gt;\\n        &lt;string name=\"issue_date\" description=\"ISS\"/&gt;\\n        &lt;string name=\"exp_date\" </span>\n",
       "<span style=\"color: #008000; text-decoration-color: #008000\">description=\"Exp Date\"/&gt;\\n        &lt;string name=\"sex\" description=\"Sex\" format=\"valid-choice\"/&gt;\\n    </span>\n",
       "<span style=\"color: #008000; text-decoration-color: #008000\">&lt;/object&gt;\\n&lt;/output&gt;\\n\\n\\nONLY return a valid JSON object (no other text is necessary), where the key of the field </span>\n",
       "<span style=\"color: #008000; text-decoration-color: #008000\">in JSON is the `name` attribute of the corresponding XML, and the value is of the type specified by the </span>\n",
       "<span style=\"color: #008000; text-decoration-color: #008000\">corresponding XML\\'s tag. The JSON MUST conform to the XML format, including any types and format requests e.g. </span>\n",
       "<span style=\"color: #008000; text-decoration-color: #008000\">requests for lists, objects and specific types. Be correct and concise.\\n\\nHere are examples of simple (XML, JSON) </span>\n",
       "<span style=\"color: #008000; text-decoration-color: #008000\">pairs that show the expected behavior:\\n- `&lt;string name=\\'foo\\' format=\\'two-words lower-case\\' /&gt;` =&gt; `{{\\'foo\\': </span>\n",
       "<span style=\"color: #008000; text-decoration-color: #008000\">\\'example one\\'}}`\\n- `&lt;list name=\\'bar\\'&gt;&lt;string format=\\'upper-case\\' /&gt;&lt;/list&gt;` =&gt; `{{\"bar\": [\\'STRING ONE\\', </span>\n",
       "<span style=\"color: #008000; text-decoration-color: #008000\">\\'STRING TWO\\', etc.]}}`\\n- `&lt;object name=\\'baz\\'&gt;&lt;string name=\"foo\" format=\"capitalize two-words\" /&gt;&lt;integer </span>\n",
       "<span style=\"color: #008000; text-decoration-color: #008000\">name=\"index\" format=\"1-indexed\" /&gt;&lt;/object&gt;` =&gt; `{{\\'baz\\': {{\\'foo\\': \\'Some String\\', \\'index\\': 1}}}}`\\n\\n'</span>,\n",
       "    <span style=\"color: #808000; text-decoration-color: #808000\">template_format</span>=<span style=\"color: #008000; text-decoration-color: #008000\">'f-string'</span>,\n",
       "    <span style=\"color: #808000; text-decoration-color: #808000\">validate_template</span>=<span style=\"color: #00ff00; text-decoration-color: #00ff00; font-style: italic\">True</span>\n",
       "<span style=\"font-weight: bold\">)</span>\n",
       "</pre>\n"
      ],
      "text/plain": [
       "\u001b[1;35mPromptTemplate\u001b[0m\u001b[1m(\u001b[0m\n",
       "    \u001b[33minput_variables\u001b[0m=\u001b[1m[\u001b[0m\u001b[1m]\u001b[0m,\n",
       "    \u001b[33moutput_parser\u001b[0m=\u001b[3;35mNone\u001b[0m,\n",
       "    \u001b[33mpartial_variables\u001b[0m=\u001b[1m{\u001b[0m\u001b[1m}\u001b[0m,\n",
       "    \u001b[33mtemplate\u001b[0m=\u001b[32m'\\n\\nExtract entities from the below ocr output\\n\\nKANSAS DRIVER\\'S LICENSE \\n\\n\\nu offer utmL \u001b[0m\n",
       "\u001b[32m1111512019 \\n4d LIC. NO. K12-34-5679 3 V1115/1998 class A saENDNONE 2..-NONE iss 11/15/2017 4b EXP 11115/2023 \u001b[0m\n",
       "\u001b[32mSAMPLE 2 NICK 8 123 NORTH STREET APT. KS 66612-1234 15SEX M`.. -17WGT 170 113 16 MGT 6,0r 18EYES BRO \\n11 /15/98 \u001b[0m\n",
       "\u001b[32mIgx4x.\u001b[0m\u001b[32mg2\u001b[0m\u001b[32m=\u001b[0m\u001b[32m12\u001b[0m\u001b[32m \\n\\n\\nGiven below is XML that describes the information to extract from this document and the tags to \u001b[0m\n",
       "\u001b[32mextract it into.\\n\\n\u001b[0m\u001b[32m<\u001b[0m\u001b[32moutput\u001b[0m\u001b[32m>\\n    <object \u001b[0m\u001b[32mname\u001b[0m\u001b[32m=\u001b[0m\u001b[32m\"driver_details\"\u001b[0m\u001b[32m>\\n        <string \u001b[0m\u001b[32mname\u001b[0m\u001b[32m=\u001b[0m\u001b[32m\"fname\"\u001b[0m\u001b[32m \u001b[0m\u001b[32mdescription\u001b[0m\u001b[32m=\u001b[0m\u001b[32m\"First\u001b[0m\u001b[32m \u001b[0m\n",
       "\u001b[32mName\"/>\\n        <string \u001b[0m\u001b[32mname\u001b[0m\u001b[32m=\u001b[0m\u001b[32m\"lname\"\u001b[0m\u001b[32m \u001b[0m\u001b[32mdescription\u001b[0m\u001b[32m=\u001b[0m\u001b[32m\"Last\u001b[0m\u001b[32m Name\"/>\\n        <string \u001b[0m\u001b[32mname\u001b[0m\u001b[32m=\u001b[0m\u001b[32m\"address\"\u001b[0m\u001b[32m \u001b[0m\n",
       "\u001b[32mdescription\u001b[0m\u001b[32m=\u001b[0m\u001b[32m\"Address\"\u001b[0m\u001b[32m/>\\n        <string \u001b[0m\u001b[32mname\u001b[0m\u001b[32m=\u001b[0m\u001b[32m\"issue_date\"\u001b[0m\u001b[32m \u001b[0m\u001b[32mdescription\u001b[0m\u001b[32m=\u001b[0m\u001b[32m\"ISS\"\u001b[0m\u001b[32m/>\\n        <string \u001b[0m\u001b[32mname\u001b[0m\u001b[32m=\u001b[0m\u001b[32m\"exp_date\"\u001b[0m\u001b[32m \u001b[0m\n",
       "\u001b[32mdescription\u001b[0m\u001b[32m=\u001b[0m\u001b[32m\"Exp\u001b[0m\u001b[32m Date\"/>\\n        <string \u001b[0m\u001b[32mname\u001b[0m\u001b[32m=\u001b[0m\u001b[32m\"sex\"\u001b[0m\u001b[32m \u001b[0m\u001b[32mdescription\u001b[0m\u001b[32m=\u001b[0m\u001b[32m\"Sex\"\u001b[0m\u001b[32m \u001b[0m\u001b[32mformat\u001b[0m\u001b[32m=\u001b[0m\u001b[32m\"valid\u001b[0m\u001b[32m-choice\"/>\\n    \u001b[0m\n",
       "\u001b[32m</object>\\n</output>\\n\\n\\nONLY return a valid JSON object \u001b[0m\u001b[32m(\u001b[0m\u001b[32mno other text is necessary\u001b[0m\u001b[32m)\u001b[0m\u001b[32m, where the key of the field \u001b[0m\n",
       "\u001b[32min JSON is the `name` attribute of the corresponding XML, and the value is of the type specified by the \u001b[0m\n",
       "\u001b[32mcorresponding XML\\'s tag. The JSON MUST conform to the XML format, including any types and format requests e.g. \u001b[0m\n",
       "\u001b[32mrequests for lists, objects and specific types. Be correct and concise.\\n\\nHere are examples of simple \u001b[0m\u001b[32m(\u001b[0m\u001b[32mXML, JSON\u001b[0m\u001b[32m)\u001b[0m\u001b[32m \u001b[0m\n",
       "\u001b[32mpairs that show the expected behavior:\\n- `<string \u001b[0m\u001b[32mname\u001b[0m\u001b[32m=\\'foo\\' \u001b[0m\u001b[32mformat\u001b[0m\u001b[32m=\\'two-words lower-case\\' />` => `\u001b[0m\u001b[32m{\u001b[0m\u001b[32m{\u001b[0m\u001b[32m\\'foo\\': \u001b[0m\n",
       "\u001b[32m\\'example one\\'\u001b[0m\u001b[32m}\u001b[0m\u001b[32m}\u001b[0m\u001b[32m`\\n- `<list \u001b[0m\u001b[32mname\u001b[0m\u001b[32m=\\'bar\\'><string \u001b[0m\u001b[32mformat\u001b[0m\u001b[32m=\\'upper-case\\' /></list>` => `\u001b[0m\u001b[32m{\u001b[0m\u001b[32m{\u001b[0m\u001b[32m\"bar\": \u001b[0m\u001b[32m[\u001b[0m\u001b[32m\\'STRING ONE\\', \u001b[0m\n",
       "\u001b[32m\\'STRING TWO\\', etc.\u001b[0m\u001b[32m]\u001b[0m\u001b[32m}\u001b[0m\u001b[32m}\u001b[0m\u001b[32m`\\n- `<object \u001b[0m\u001b[32mname\u001b[0m\u001b[32m=\\'baz\\'><string \u001b[0m\u001b[32mname\u001b[0m\u001b[32m=\u001b[0m\u001b[32m\"foo\"\u001b[0m\u001b[32m \u001b[0m\u001b[32mformat\u001b[0m\u001b[32m=\u001b[0m\u001b[32m\"capitalize\u001b[0m\u001b[32m two-words\" /><integer \u001b[0m\n",
       "\u001b[32mname\u001b[0m\u001b[32m=\u001b[0m\u001b[32m\"index\"\u001b[0m\u001b[32m \u001b[0m\u001b[32mformat\u001b[0m\u001b[32m=\u001b[0m\u001b[32m\"1\u001b[0m\u001b[32m-indexed\" /></object>` =\u001b[0m\u001b[32m>\u001b[0m\u001b[32m `\u001b[0m\u001b[32m{\u001b[0m\u001b[32m{\u001b[0m\u001b[32m\\'baz\\': \u001b[0m\u001b[32m{\u001b[0m\u001b[32m{\u001b[0m\u001b[32m\\'foo\\': \\'Some String\\', \\'index\\': 1\u001b[0m\u001b[32m}\u001b[0m\u001b[32m}\u001b[0m\u001b[32m}\u001b[0m\u001b[32m}\u001b[0m\u001b[32m`\\n\\n'\u001b[0m,\n",
       "    \u001b[33mtemplate_format\u001b[0m=\u001b[32m'f-string'\u001b[0m,\n",
       "    \u001b[33mvalidate_template\u001b[0m=\u001b[3;92mTrue\u001b[0m\n",
       "\u001b[1m)\u001b[0m\n"
      ]
     },
     "metadata": {},
     "output_type": "display_data"
    }
   ],
   "source": [
    "print(prompt)"
   ]
  },
  {
   "cell_type": "code",
   "execution_count": 280,
   "id": "2212d3de-7320-4357-8ffa-c38be10eb00a",
   "metadata": {},
   "outputs": [],
   "source": [
    "llm_output = llm(prompt.format_prompt().to_string(), )"
   ]
  },
  {
   "cell_type": "code",
   "execution_count": 281,
   "id": "74e9127d-44b4-45bd-8a4f-4cd1d6fe77f7",
   "metadata": {},
   "outputs": [
    {
     "data": {
      "text/plain": [
       "'\\n{\"driver_details\": {\"fname\": \"Nick\", \"lname\": \"Sample\", \"address\": \"123 North Street Apt.\", \"issue_date\": \"11/15/2017\", \"exp_date\": \"11/15/2023\", \"sex\": \"M\"}}'"
      ]
     },
     "execution_count": 281,
     "metadata": {},
     "output_type": "execute_result"
    }
   ],
   "source": [
    "llm_output"
   ]
  },
  {
   "cell_type": "code",
   "execution_count": null,
   "id": "22f0f2d9-9e2e-418b-891c-34cdf24917a4",
   "metadata": {},
   "outputs": [],
   "source": []
  }
 ],
 "metadata": {
  "kernelspec": {
   "display_name": "Python 3 (ipykernel)",
   "language": "python",
   "name": "python3"
  },
  "language_info": {
   "codemirror_mode": {
    "name": "ipython",
    "version": 3
   },
   "file_extension": ".py",
   "mimetype": "text/x-python",
   "name": "python",
   "nbconvert_exporter": "python",
   "pygments_lexer": "ipython3",
   "version": "3.10.9"
  }
 },
 "nbformat": 4,
 "nbformat_minor": 5
}
