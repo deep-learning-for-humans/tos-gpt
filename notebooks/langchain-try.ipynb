{
 "cells": [
  {
   "cell_type": "code",
   "execution_count": 18,
   "id": "61c4de95-b1f5-4c03-a087-351690887508",
   "metadata": {},
   "outputs": [],
   "source": [
    "import os"
   ]
  },
  {
   "cell_type": "code",
   "execution_count": 3,
   "id": "5d5773b5",
   "metadata": {},
   "outputs": [],
   "source": [
    "import json\n",
    "from langchain.agents import (\n",
    "    create_json_agent,\n",
    "    AgentExecutor\n",
    ")\n",
    "from langchain.agents.agent_toolkits import JsonToolkit\n",
    "from langchain.llms.openai import OpenAI\n",
    "from langchain.requests import RequestsWrapper\n",
    "from langchain.tools.json.tool import JsonSpec\n"
   ]
  },
  {
   "cell_type": "code",
   "execution_count": 20,
   "id": "edf40df4-d885-4547-8529-f44cedbed63a",
   "metadata": {},
   "outputs": [],
   "source": [
    "os.environ['OPENAI_API_KEY'] = ''"
   ]
  },
  {
   "cell_type": "code",
   "execution_count": 37,
   "id": "9ea50161",
   "metadata": {},
   "outputs": [],
   "source": [
    "tw_data = None\n",
    "with open('../data/final/twitter.json', 'r') as f:\n",
    "    tw_data = json.load(f)"
   ]
  },
  {
   "cell_type": "code",
   "execution_count": 38,
   "id": "eae7048f-1733-4a7b-9498-ca9f6f0e7de6",
   "metadata": {},
   "outputs": [],
   "source": [
    "fb_data = None\n",
    "with open('../data/final/facebook.json', 'r') as f:\n",
    "    fb_data = json.load(f)"
   ]
  },
  {
   "cell_type": "code",
   "execution_count": 71,
   "id": "71f62d7d-3389-4654-93e9-0352355f4780",
   "metadata": {},
   "outputs": [],
   "source": [
    "new_data = None\n",
    "with open('../data/merged_data.json', 'r') as f:\n",
    "    new_data = json.load(f)"
   ]
  },
  {
   "cell_type": "code",
   "execution_count": 39,
   "id": "f13f9429-c7ec-43bd-bc76-b5720499d8f9",
   "metadata": {},
   "outputs": [],
   "source": [
    "del tw_data['Documents']\n",
    "del fb_data['Documents']"
   ]
  },
  {
   "cell_type": "code",
   "execution_count": 41,
   "id": "f79ae4dd-27bb-41e7-a70f-8fb3578c1b33",
   "metadata": {},
   "outputs": [],
   "source": [
    "data = {}\n",
    "data['twitter'] = tw_data\n",
    "data['facebook'] = fb_data"
   ]
  },
  {
   "cell_type": "code",
   "execution_count": 72,
   "id": "778b3518-83d1-402f-85f9-4b29f9ed8d1f",
   "metadata": {},
   "outputs": [],
   "source": [
    "json_spec = JsonSpec(dict_=new_data, max_value_length=4000)"
   ]
  },
  {
   "cell_type": "code",
   "execution_count": 73,
   "id": "06b5ddb3-7caf-4c8a-a237-eb7539cd343d",
   "metadata": {},
   "outputs": [],
   "source": [
    "json_toolkit = JsonToolkit(spec=json_spec)\n"
   ]
  },
  {
   "cell_type": "code",
   "execution_count": 74,
   "id": "789cfb10-d529-4054-96a4-b042d0cfb6d4",
   "metadata": {},
   "outputs": [],
   "source": [
    "json_agent_executor = create_json_agent(\n",
    "    llm=OpenAI(temperature=0),\n",
    "    toolkit=json_toolkit,\n",
    "    verbose=True\n",
    ")"
   ]
  },
  {
   "cell_type": "code",
   "execution_count": null,
   "id": "ae41c518-20cd-4228-98b7-218fadafa865",
   "metadata": {},
   "outputs": [],
   "source": []
  },
  {
   "cell_type": "code",
   "execution_count": null,
   "id": "5b50d148-0ae4-46a6-b0c2-86301698ff8e",
   "metadata": {},
   "outputs": [],
   "source": [
    "json_agent_executor.run(\"compare the terms of service of twitter and google\")"
   ]
  },
  {
   "cell_type": "code",
   "execution_count": 46,
   "id": "cb4bb369-24e4-4365-abef-8d3ce205f39c",
   "metadata": {},
   "outputs": [
    {
     "name": "stdout",
     "output_type": "stream",
     "text": [
      "\n",
      "\n",
      "\u001b[1m> Entering new AgentExecutor chain...\u001b[0m\n",
      "\u001b[32;1m\u001b[1;3mAction: json_spec_list_keys\n",
      "Action Input: data\u001b[0m\n",
      "Observation: \u001b[36;1m\u001b[1;3m['twitter', 'facebook']\u001b[0m\n",
      "Thought:\u001b[32;1m\u001b[1;3m I should look at the keys that exist in data['twitter'] and data['facebook']\n",
      "Action: json_spec_list_keys\n",
      "Action Input: data[\"twitter\"]\u001b[0m\n",
      "Observation: \u001b[36;1m\u001b[1;3m['Name', 'PointsToConsider']\u001b[0m\n",
      "Thought:\u001b[32;1m\u001b[1;3m I should look at the keys that exist in data['facebook']\n",
      "Action: json_spec_list_keys\n",
      "Action Input: data[\"facebook\"]\u001b[0m\n",
      "Observation: \u001b[36;1m\u001b[1;3m['Name', 'PointsToConsider']\u001b[0m\n",
      "Thought:\u001b[32;1m\u001b[1;3m I should look at the values of the 'PointsToConsider' keys in both twitter and facebook\n",
      "Action: json_spec_get_value\n",
      "Action Input: data[\"twitter\"][\"PointsToConsider\"]\u001b[0m\n",
      "Observation: \u001b[33;1m\u001b[1;3m[{'Id': 17263, 'Title': 'The service may use tracking pixels, web beacons, browser fingerprinting, and/or device fingerprinting on users.', 'Source': 'https://twitter.com/en/privacy', 'Status': 'approved', 'Analysis': 'Generated through the annotate view', 'CreatedAt': '2021-03-13T09:52:59.928+00:00', 'UpdatedAt': '2021-03-13T09:52:59.928+00:00', 'QuoteText': 'Our ad partners and affiliates share information with us such as browser cookie IDs, mobile device IDs, hashed email addresses, demographic or interest data, and content viewed or actions taken on a website or app.', 'DocumentId': 90, 'QuoteStart': 21344, 'QuoteEnd': 21558, 'CaseId': 323, 'CaseTitle': 'You are tracked via web beacons, tracking pixels, browser fingerprinting, and/or device fingerprinting', 'CaseDescription': 'Tracking technologies (such as web beacons, tracking pixels...) are employed on users and/or the service assigns a unique ID to a browser or device to track its behaviour.', 'CaseClassification': 'bad'}, {'Id': 17262, 'Title': 'This service gathers information about you through third parties', 'Source': 'https://twitter.com/en/privacy', 'Status': 'approved', 'Analysis': 'Generated through the annotate view', 'CreatedAt': '2021-03-13T09:51:22.273+00:00', 'UpdatedAt': '2021-03-13T09:51:22.273+00:00', 'QuoteText': '\\n<p>We use information you provide to us and data we receive, including Log Data and data from third parties, to make inferences like what topics you may be interested in, how old you are, and what languages you speak.', 'DocumentId': 90, 'QuoteStart': 19369, 'QuoteEnd': 19587, 'CaseId': 382, 'CaseTitle': 'Information is gathered about you through third parties', 'CaseDescription': 'This Service may employ, either identifiable or non-identifiable, data collection from third party sources about you.', 'CaseClassification': 'bad'}, {'Id': 756, 'Title': 'You can retrieve an archive of your data', 'Source': 'https://twitter.com/en/privacy', 'Status': 'approved', 'Analysis': 'There is a button in the account settings to retrieve an archive of all your tweets.', 'CreatedAt': '2018-01-16T15:27:12.643+00:00', 'UpdatedAt': '2019-01-25T15:57:35.916+00:00', 'QuoteText': 'You can download certain account information, including your Tweets, by following the instructions here.\\nOn Periscope, you can request correction, deletion, or modification of your personal data, and download your account information, by following the instructions here.', 'DocumentId': 90, 'QuoteStart': 34539, 'QuoteEnd': 34809, 'CaseId': 140, 'CaseTitle': 'You can retrieve an archive of your data', 'CaseDescription': 'Users can request a copy of the data collected through the services and infer from it the amount of personal information that is processed and stored by the Service. This usually applies to Services GDPR compliants.', 'CaseClassification': 'good'}, {'Id': 779, 'Title': 'Third party cookies', 'Source': 'https://twitter.com/en/privacy', 'Status': 'approved', 'Analysis': 'Twitter uses third-party services that may collect your information, using cookies for instance. Twitter uses Google Analytics.', 'CreatedAt': '2018-01-16T15:27:17.196+00:00', 'UpdatedAt': '2019-01-25T16:04:14.778+00:00', 'QuoteText': 'They may also collect other personal data from you, such as cookie identifiers or your IP address.</p>', 'DocumentId': 90, 'QuoteStart': 16653, 'QuoteEnd': 16755, 'CaseId': 128, 'CaseTitle': 'Third-party cookies are used for advertising', 'CaseDescription': \"The service's website sets third-party cookies (cookies that do not belong to their domain) for purposes not including statistics and analytics.\", 'CaseClassification': 'bad'}, {'Id': 5833, 'Title': 'This service is only available to users of a certain age', 'Source': 'https://twitter.com/en/tos', 'Status': 'approved', 'Analysis': 'Generated through the annotate view', 'CreatedAt': '2019-02-16T19:18:21.348+00:00', 'UpdatedAt': '2019-02-20T06:48:19.145+00:00', 'QuoteText': 'In any case, you must be at least 13 years old,...\u001b[0m\n",
      "Thought:\u001b[32;1m\u001b[1;3m I now know the final answer\n",
      "Final Answer: Twitter and Facebook both have points to consider that are both good and bad. Twitter requires users to be at least 13 years old, while Facebook does not have an age requirement.\u001b[0m\n",
      "\n",
      "\u001b[1m> Finished chain.\u001b[0m\n"
     ]
    },
    {
     "data": {
      "text/plain": [
       "'Twitter and Facebook both have points to consider that are both good and bad. Twitter requires users to be at least 13 years old, while Facebook does not have an age requirement.'"
      ]
     },
     "execution_count": 46,
     "metadata": {},
     "output_type": "execute_result"
    }
   ],
   "source": [
    "json_agent_executor.run(\"compare the good pints of facebook and twitter\")"
   ]
  },
  {
   "cell_type": "code",
   "execution_count": 47,
   "id": "84aff8c9-be00-4bff-87c8-967fe914ebb3",
   "metadata": {},
   "outputs": [
    {
     "name": "stdout",
     "output_type": "stream",
     "text": [
      "\n",
      "\n",
      "\u001b[1m> Entering new AgentExecutor chain...\u001b[0m\n",
      "\u001b[32;1m\u001b[1;3mAction: json_spec_list_keys\n",
      "Action Input: data\u001b[0m\n",
      "Observation: \u001b[36;1m\u001b[1;3m['twitter', 'facebook']\u001b[0m\n",
      "Thought:\u001b[32;1m\u001b[1;3m I should look at the bad points of each\n",
      "Action: json_spec_list_keys\n",
      "Action Input: data[\"twitter\"]\u001b[0m\n",
      "Observation: \u001b[36;1m\u001b[1;3m['Name', 'PointsToConsider']\u001b[0m\n",
      "Thought:\u001b[32;1m\u001b[1;3m I should look at the bad points of each\n",
      "Action: json_spec_list_keys\n",
      "Action Input: data[\"facebook\"]\u001b[0m\n",
      "Observation: \u001b[36;1m\u001b[1;3m['Name', 'PointsToConsider']\u001b[0m\n",
      "Thought:\u001b[32;1m\u001b[1;3m I should look at the bad points of each\n",
      "Action: json_spec_get_value\n",
      "Action Input: data[\"twitter\"][\"PointsToConsider\"]\u001b[0m\n",
      "Observation: \u001b[33;1m\u001b[1;3m[{'Id': 17263, 'Title': 'The service may use tracking pixels, web beacons, browser fingerprinting, and/or device fingerprinting on users.', 'Source': 'https://twitter.com/en/privacy', 'Status': 'approved', 'Analysis': 'Generated through the annotate view', 'CreatedAt': '2021-03-13T09:52:59.928+00:00', 'UpdatedAt': '2021-03-13T09:52:59.928+00:00', 'QuoteText': 'Our ad partners and affiliates share information with us such as browser cookie IDs, mobile device IDs, hashed email addresses, demographic or interest data, and content viewed or actions taken on a website or app.', 'DocumentId': 90, 'QuoteStart': 21344, 'QuoteEnd': 21558, 'CaseId': 323, 'CaseTitle': 'You are tracked via web beacons, tracking pixels, browser fingerprinting, and/or device fingerprinting', 'CaseDescription': 'Tracking technologies (such as web beacons, tracking pixels...) are employed on users and/or the service assigns a unique ID to a browser or device to track its behaviour.', 'CaseClassification': 'bad'}, {'Id': 17262, 'Title': 'This service gathers information about you through third parties', 'Source': 'https://twitter.com/en/privacy', 'Status': 'approved', 'Analysis': 'Generated through the annotate view', 'CreatedAt': '2021-03-13T09:51:22.273+00:00', 'UpdatedAt': '2021-03-13T09:51:22.273+00:00', 'QuoteText': '\\n<p>We use information you provide to us and data we receive, including Log Data and data from third parties, to make inferences like what topics you may be interested in, how old you are, and what languages you speak.', 'DocumentId': 90, 'QuoteStart': 19369, 'QuoteEnd': 19587, 'CaseId': 382, 'CaseTitle': 'Information is gathered about you through third parties', 'CaseDescription': 'This Service may employ, either identifiable or non-identifiable, data collection from third party sources about you.', 'CaseClassification': 'bad'}, {'Id': 756, 'Title': 'You can retrieve an archive of your data', 'Source': 'https://twitter.com/en/privacy', 'Status': 'approved', 'Analysis': 'There is a button in the account settings to retrieve an archive of all your tweets.', 'CreatedAt': '2018-01-16T15:27:12.643+00:00', 'UpdatedAt': '2019-01-25T15:57:35.916+00:00', 'QuoteText': 'You can download certain account information, including your Tweets, by following the instructions here.\\nOn Periscope, you can request correction, deletion, or modification of your personal data, and download your account information, by following the instructions here.', 'DocumentId': 90, 'QuoteStart': 34539, 'QuoteEnd': 34809, 'CaseId': 140, 'CaseTitle': 'You can retrieve an archive of your data', 'CaseDescription': 'Users can request a copy of the data collected through the services and infer from it the amount of personal information that is processed and stored by the Service. This usually applies to Services GDPR compliants.', 'CaseClassification': 'good'}, {'Id': 779, 'Title': 'Third party cookies', 'Source': 'https://twitter.com/en/privacy', 'Status': 'approved', 'Analysis': 'Twitter uses third-party services that may collect your information, using cookies for instance. Twitter uses Google Analytics.', 'CreatedAt': '2018-01-16T15:27:17.196+00:00', 'UpdatedAt': '2019-01-25T16:04:14.778+00:00', 'QuoteText': 'They may also collect other personal data from you, such as cookie identifiers or your IP address.</p>', 'DocumentId': 90, 'QuoteStart': 16653, 'QuoteEnd': 16755, 'CaseId': 128, 'CaseTitle': 'Third-party cookies are used for advertising', 'CaseDescription': \"The service's website sets third-party cookies (cookies that do not belong to their domain) for purposes not including statistics and analytics.\", 'CaseClassification': 'bad'}, {'Id': 5833, 'Title': 'This service is only available to users of a certain age', 'Source': 'https://twitter.com/en/tos', 'Status': 'approved', 'Analysis': 'Generated through the annotate view', 'CreatedAt': '2019-02-16T19:18:21.348+00:00', 'UpdatedAt': '2019-02-20T06:48:19.145+00:00', 'QuoteText': 'In any case, you must be at least 13 years old,...\u001b[0m\n",
      "Thought:\u001b[32;1m\u001b[1;3m I now know the final answer\n",
      "Final Answer: Twitter and Facebook both have bad points such as tracking pixels, web beacons, browser fingerprinting, and/or device fingerprinting on users, gathering information about you through third parties, third-party cookies for advertising, and Twitter is only available to users of a certain age.\u001b[0m\n",
      "\n",
      "\u001b[1m> Finished chain.\u001b[0m\n"
     ]
    },
    {
     "data": {
      "text/plain": [
       "'Twitter and Facebook both have bad points such as tracking pixels, web beacons, browser fingerprinting, and/or device fingerprinting on users, gathering information about you through third parties, third-party cookies for advertising, and Twitter is only available to users of a certain age.'"
      ]
     },
     "execution_count": 47,
     "metadata": {},
     "output_type": "execute_result"
    }
   ],
   "source": [
    "json_agent_executor.run(\"compare the bad points of facebook and twitter\")"
   ]
  },
  {
   "cell_type": "code",
   "execution_count": 48,
   "id": "23e42582-6cf4-47f7-a6b7-7a0c8f9873cc",
   "metadata": {},
   "outputs": [
    {
     "name": "stdout",
     "output_type": "stream",
     "text": [
      "\n",
      "\n",
      "\u001b[1m> Entering new AgentExecutor chain...\u001b[0m\n",
      "\u001b[32;1m\u001b[1;3mAction: json_spec_list_keys\n",
      "Action Input: data\u001b[0m\n",
      "Observation: \u001b[36;1m\u001b[1;3m['twitter', 'facebook']\u001b[0m\n",
      "Thought:\u001b[32;1m\u001b[1;3m I should look at the twitter key to see what information I can find\n",
      "Action: json_spec_list_keys\n",
      "Action Input: data[\"twitter\"]\u001b[0m\n",
      "Observation: \u001b[36;1m\u001b[1;3m['Name', 'PointsToConsider']\u001b[0m\n",
      "Thought:\u001b[32;1m\u001b[1;3m I should look at the PointsToConsider key to see what information I can find\n",
      "Action: json_spec_get_value\n",
      "Action Input: data[\"twitter\"][\"PointsToConsider\"]\u001b[0m\n",
      "Observation: \u001b[33;1m\u001b[1;3m[{'Id': 17263, 'Title': 'The service may use tracking pixels, web beacons, browser fingerprinting, and/or device fingerprinting on users.', 'Source': 'https://twitter.com/en/privacy', 'Status': 'approved', 'Analysis': 'Generated through the annotate view', 'CreatedAt': '2021-03-13T09:52:59.928+00:00', 'UpdatedAt': '2021-03-13T09:52:59.928+00:00', 'QuoteText': 'Our ad partners and affiliates share information with us such as browser cookie IDs, mobile device IDs, hashed email addresses, demographic or interest data, and content viewed or actions taken on a website or app.', 'DocumentId': 90, 'QuoteStart': 21344, 'QuoteEnd': 21558, 'CaseId': 323, 'CaseTitle': 'You are tracked via web beacons, tracking pixels, browser fingerprinting, and/or device fingerprinting', 'CaseDescription': 'Tracking technologies (such as web beacons, tracking pixels...) are employed on users and/or the service assigns a unique ID to a browser or device to track its behaviour.', 'CaseClassification': 'bad'}, {'Id': 17262, 'Title': 'This service gathers information about you through third parties', 'Source': 'https://twitter.com/en/privacy', 'Status': 'approved', 'Analysis': 'Generated through the annotate view', 'CreatedAt': '2021-03-13T09:51:22.273+00:00', 'UpdatedAt': '2021-03-13T09:51:22.273+00:00', 'QuoteText': '\\n<p>We use information you provide to us and data we receive, including Log Data and data from third parties, to make inferences like what topics you may be interested in, how old you are, and what languages you speak.', 'DocumentId': 90, 'QuoteStart': 19369, 'QuoteEnd': 19587, 'CaseId': 382, 'CaseTitle': 'Information is gathered about you through third parties', 'CaseDescription': 'This Service may employ, either identifiable or non-identifiable, data collection from third party sources about you.', 'CaseClassification': 'bad'}, {'Id': 756, 'Title': 'You can retrieve an archive of your data', 'Source': 'https://twitter.com/en/privacy', 'Status': 'approved', 'Analysis': 'There is a button in the account settings to retrieve an archive of all your tweets.', 'CreatedAt': '2018-01-16T15:27:12.643+00:00', 'UpdatedAt': '2019-01-25T15:57:35.916+00:00', 'QuoteText': 'You can download certain account information, including your Tweets, by following the instructions here.\\nOn Periscope, you can request correction, deletion, or modification of your personal data, and download your account information, by following the instructions here.', 'DocumentId': 90, 'QuoteStart': 34539, 'QuoteEnd': 34809, 'CaseId': 140, 'CaseTitle': 'You can retrieve an archive of your data', 'CaseDescription': 'Users can request a copy of the data collected through the services and infer from it the amount of personal information that is processed and stored by the Service. This usually applies to Services GDPR compliants.', 'CaseClassification': 'good'}, {'Id': 779, 'Title': 'Third party cookies', 'Source': 'https://twitter.com/en/privacy', 'Status': 'approved', 'Analysis': 'Twitter uses third-party services that may collect your information, using cookies for instance. Twitter uses Google Analytics.', 'CreatedAt': '2018-01-16T15:27:17.196+00:00', 'UpdatedAt': '2019-01-25T16:04:14.778+00:00', 'QuoteText': 'They may also collect other personal data from you, such as cookie identifiers or your IP address.</p>', 'DocumentId': 90, 'QuoteStart': 16653, 'QuoteEnd': 16755, 'CaseId': 128, 'CaseTitle': 'Third-party cookies are used for advertising', 'CaseDescription': \"The service's website sets third-party cookies (cookies that do not belong to their domain) for purposes not including statistics and analytics.\", 'CaseClassification': 'bad'}, {'Id': 5833, 'Title': 'This service is only available to users of a certain age', 'Source': 'https://twitter.com/en/tos', 'Status': 'approved', 'Analysis': 'Generated through the annotate view', 'CreatedAt': '2019-02-16T19:18:21.348+00:00', 'UpdatedAt': '2019-02-20T06:48:19.145+00:00', 'QuoteText': 'In any case, you must be at least 13 years old,...\u001b[0m\n",
      "Thought:\u001b[32;1m\u001b[1;3m I now know the final answer\n",
      "Final Answer: Twitter and Facebook have data take out policies that include points such as tracking pixels, web beacons, browser fingerprinting, device fingerprinting, gathering information from third parties, retrieving an archive of data, and third-party cookies for advertising. Additionally, Twitter is only available to users of a certain age.\u001b[0m\n",
      "\n",
      "\u001b[1m> Finished chain.\u001b[0m\n"
     ]
    },
    {
     "data": {
      "text/plain": [
       "'Twitter and Facebook have data take out policies that include points such as tracking pixels, web beacons, browser fingerprinting, device fingerprinting, gathering information from third parties, retrieving an archive of data, and third-party cookies for advertising. Additionally, Twitter is only available to users of a certain age.'"
      ]
     },
     "execution_count": 48,
     "metadata": {},
     "output_type": "execute_result"
    }
   ],
   "source": [
    "json_agent_executor.run(\"what do you think about the data take out policies / points of twitter and facebook\")"
   ]
  },
  {
   "cell_type": "code",
   "execution_count": 56,
   "id": "1ec9c4cd-a94c-41b0-98ae-69a54b990b1b",
   "metadata": {},
   "outputs": [
    {
     "name": "stdout",
     "output_type": "stream",
     "text": [
      "\n",
      "\n",
      "\u001b[1m> Entering new AgentExecutor chain...\u001b[0m\n",
      "\u001b[32;1m\u001b[1;3mAction: json_spec_list_keys\n",
      "Action Input: data\u001b[0m\n",
      "Observation: \u001b[36;1m\u001b[1;3m['twitter', 'facebook']\u001b[0m\n",
      "Thought:\u001b[32;1m\u001b[1;3m I should look at the facebook key to see what I can find\n",
      "Action: json_spec_list_keys\n",
      "Action Input: data[\"facebook\"]\u001b[0m\n",
      "Observation: \u001b[36;1m\u001b[1;3m['Name', 'PointsToConsider']\u001b[0m\n",
      "Thought:\u001b[32;1m\u001b[1;3m I should look at the PointsToConsider key to see what I can find\n",
      "Action: json_spec_get_value\n",
      "Action Input: data[\"facebook\"][\"PointsToConsider\"]\u001b[0m\n",
      "Observation: \u001b[33;1m\u001b[1;3m[{'Id': 627, 'Title': 'Facebook uses cookies', 'Source': 'https://www.facebook.com/policy/cookies/printable', 'Status': 'approved', 'Analysis': 'Facebook uses, pixels and local storage in order to gather information about you, your device, your browser cache, your use of Facebook.  Facebook also uses cookies for adversing purposes.', 'CreatedAt': '2018-01-16T15:26:27.622+00:00', 'UpdatedAt': '2020-10-20T15:58:49.447+00:00', 'QuoteText': 'We use cookies if you have a Facebook account, use the Facebook Products, including our website and apps, or visit other websites and apps that use the Facebook Products (including the Like button or other Facebook Technologies).', 'DocumentId': 452, 'QuoteStart': 643, 'QuoteEnd': 872, 'CaseId': 126, 'CaseTitle': 'First-party cookies are used', 'CaseDescription': 'First-party cookies only belong to the domain of the service and not a third party.', 'CaseClassification': 'neutral'}, {'Id': 4598, 'Title': 'Your identity is used in ads that are shown to other users', 'Source': 'https://www.facebook.com/legal/terms', 'Status': 'approved', 'Analysis': 'Generated through the annotate view', 'CreatedAt': '2018-08-31T13:35:55.451+00:00', 'UpdatedAt': '2020-10-20T22:25:56.333+00:00', 'QuoteText': ' You give us permission to use your name and profile picture and information about actions you have taken on Facebook next to or in connection with ads, offers, and other sponsored content that we display across our Products, without any compensation to you.', 'DocumentId': 239, 'QuoteStart': 15122, 'QuoteEnd': 15380, 'CaseId': 327, 'CaseTitle': 'Your identity is used in ads that are shown to other users', 'CaseDescription': 'Ads shown to other users may include a reference to you as an implied endorsement.\\r\\nMight give away information about your own personal lifestyle to strangers.', 'CaseClassification': 'blocker'}, {'Id': 751, 'Title': 'personal data is given to third parties', 'Source': 'https://www.facebook.com/about/privacy', 'Status': 'approved', 'Analysis': 'Facebook give personal details to 3rd Party by default', 'CreatedAt': '2018-01-16T15:27:11.635+00:00', 'UpdatedAt': '2020-10-20T18:18:59.219+00:00', 'QuoteText': \"Sharing with Third-Party Partners We work with third-party partners who help us provide and improve our Products or who use Facebook Business Tools to grow their businesses, which makes it possible to operate our companies and provide free services to people around the world.\\nWe don't sell any of your information to anyone, and we never will.\\nWe also impose strict restrictions on how our partners can use and disclose the data we provide.\\nHere are the types of third parties we share information with: <br>Partners who use our analytics services.\\nWe provide aggregated statistics and insights that help people and businesses understand how people are engaging with their posts, listings, Pages, videos and other content on and off the Facebook Products.\\nFor example, Page admins and Instagram business profiles receive information about the number of people or accounts who viewed, reacted to, or commented on their posts, as well as aggregate demographic and other information that helps them understand interactions with their Page or account.\\nAdvertisers.\\nWe provide advertisers with reports about the kinds of people seeing their ads and how their ads are performing, but we don't share information that personally identifies you (information such as your name or email address that by itself can be used to contact you or identifies who you are) unless you give us permission.\\nFor example, we provide general demographic and interest information to advertisers (for example, that an ad was seen by a woman between the ages of 25 and 34 who lives in Madrid and likes software engineering) to help them better understand their audience.\\nWe also confirm which Facebook ads led you to make a purchase or take an action with an advertiser.\\nMeasurement partners.\\nWe share information about you with comp...\u001b[0m\n",
      "Thought:\u001b[32;1m\u001b[1;3m I now know the final answer\n",
      "Final Answer: Facebook points can be improved by not sharing personal data with third parties, using cookies for advertising purposes, and using analytics services to understand how people are engaging with their posts.\u001b[0m\n",
      "\n",
      "\u001b[1m> Finished chain.\u001b[0m\n"
     ]
    },
    {
     "data": {
      "text/plain": [
       "'Facebook points can be improved by not sharing personal data with third parties, using cookies for advertising purposes, and using analytics services to understand how people are engaging with their posts.'"
      ]
     },
     "execution_count": 56,
     "metadata": {},
     "output_type": "execute_result"
    }
   ],
   "source": [
    "json_agent_executor.run(\"how can we make facebook points better\")"
   ]
  },
  {
   "cell_type": "code",
   "execution_count": 57,
   "id": "34912cb4-f043-4ac6-a31a-cf09f6208686",
   "metadata": {},
   "outputs": [],
   "source": [
    "from langchain.memory import ConversationBufferMemory\n",
    "memory = ConversationBufferMemory()"
   ]
  },
  {
   "cell_type": "code",
   "execution_count": 58,
   "id": "3b7b60a1-e512-4d0e-9f38-40b9f097b672",
   "metadata": {},
   "outputs": [],
   "source": [
    "memory.chat_memory.add_user_message(\"how can we make facebook points better\")\n",
    "memory.chat_memory.add_ai_message(\"Facebook points can be made better by not sharing personal data with third parties, using cookies for advertising purposes, and providing advertisers with reports about the kinds of people seeing their ads and how their ads are performing.\")"
   ]
  },
  {
   "cell_type": "code",
   "execution_count": 59,
   "id": "c1f5907b-69e2-4a25-9081-5cf8f653cdf3",
   "metadata": {},
   "outputs": [],
   "source": [
    "json_agent_executor.memory = memory"
   ]
  },
  {
   "cell_type": "code",
   "execution_count": 60,
   "id": "2ca9f76d-97f8-4515-bc1e-622f36d53358",
   "metadata": {},
   "outputs": [
    {
     "data": {
      "text/plain": [
       "ConversationBufferMemory(chat_memory=ChatMessageHistory(messages=[HumanMessage(content='how can we make facebook points better', additional_kwargs={}), AIMessage(content='Facebook points can be made better by not sharing personal data with third parties, using cookies for advertising purposes, and providing advertisers with reports about the kinds of people seeing their ads and how their ads are performing.', additional_kwargs={})]), output_key=None, input_key=None, return_messages=False, human_prefix='Human', ai_prefix='AI', memory_key='history')"
      ]
     },
     "execution_count": 60,
     "metadata": {},
     "output_type": "execute_result"
    }
   ],
   "source": [
    "json_agent_executor.memory"
   ]
  },
  {
   "cell_type": "code",
   "execution_count": 61,
   "id": "c260ee77-928c-43fc-9af9-fd48748ff636",
   "metadata": {},
   "outputs": [
    {
     "name": "stdout",
     "output_type": "stream",
     "text": [
      "\n",
      "\n",
      "\u001b[1m> Entering new AgentExecutor chain...\u001b[0m\n",
      "\u001b[32;1m\u001b[1;3mAction: json_spec_list_keys\n",
      "Action Input: data\u001b[0m\n",
      "Observation: \u001b[36;1m\u001b[1;3m['twitter', 'facebook']\u001b[0m\n",
      "Thought:\u001b[32;1m\u001b[1;3m I should look at the keys that exist in data['twitter'] to see what I have access to\n",
      "Action: json_spec_list_keys\n",
      "Action Input: data[\"twitter\"]\u001b[0m\n",
      "Observation: \u001b[36;1m\u001b[1;3m['Name', 'PointsToConsider']\u001b[0m\n",
      "Thought:\u001b[32;1m\u001b[1;3m I should look at the value of data['twitter']['PointsToConsider'] to see what it contains\n",
      "Action: json_spec_get_value\n",
      "Action Input: data[\"twitter\"][\"PointsToConsider\"]\u001b[0m\n",
      "Observation: \u001b[33;1m\u001b[1;3m[{'Id': 17263, 'Title': 'The service may use tracking pixels, web beacons, browser fingerprinting, and/or device fingerprinting on users.', 'Source': 'https://twitter.com/en/privacy', 'Status': 'approved', 'Analysis': 'Generated through the annotate view', 'CreatedAt': '2021-03-13T09:52:59.928+00:00', 'UpdatedAt': '2021-03-13T09:52:59.928+00:00', 'QuoteText': 'Our ad partners and affiliates share information with us such as browser cookie IDs, mobile device IDs, hashed email addresses, demographic or interest data, and content viewed or actions taken on a website or app.', 'DocumentId': 90, 'QuoteStart': 21344, 'QuoteEnd': 21558, 'CaseId': 323, 'CaseTitle': 'You are tracked via web beacons, tracking pixels, browser fingerprinting, and/or device fingerprinting', 'CaseDescription': 'Tracking technologies (such as web beacons, tracking pixels...) are employed on users and/or the service assigns a unique ID to a browser or device to track its behaviour.', 'CaseClassification': 'bad'}, {'Id': 17262, 'Title': 'This service gathers information about you through third parties', 'Source': 'https://twitter.com/en/privacy', 'Status': 'approved', 'Analysis': 'Generated through the annotate view', 'CreatedAt': '2021-03-13T09:51:22.273+00:00', 'UpdatedAt': '2021-03-13T09:51:22.273+00:00', 'QuoteText': '\\n<p>We use information you provide to us and data we receive, including Log Data and data from third parties, to make inferences like what topics you may be interested in, how old you are, and what languages you speak.', 'DocumentId': 90, 'QuoteStart': 19369, 'QuoteEnd': 19587, 'CaseId': 382, 'CaseTitle': 'Information is gathered about you through third parties', 'CaseDescription': 'This Service may employ, either identifiable or non-identifiable, data collection from third party sources about you.', 'CaseClassification': 'bad'}, {'Id': 756, 'Title': 'You can retrieve an archive of your data', 'Source': 'https://twitter.com/en/privacy', 'Status': 'approved', 'Analysis': 'There is a button in the account settings to retrieve an archive of all your tweets.', 'CreatedAt': '2018-01-16T15:27:12.643+00:00', 'UpdatedAt': '2019-01-25T15:57:35.916+00:00', 'QuoteText': 'You can download certain account information, including your Tweets, by following the instructions here.\\nOn Periscope, you can request correction, deletion, or modification of your personal data, and download your account information, by following the instructions here.', 'DocumentId': 90, 'QuoteStart': 34539, 'QuoteEnd': 34809, 'CaseId': 140, 'CaseTitle': 'You can retrieve an archive of your data', 'CaseDescription': 'Users can request a copy of the data collected through the services and infer from it the amount of personal information that is processed and stored by the Service. This usually applies to Services GDPR compliants.', 'CaseClassification': 'good'}, {'Id': 779, 'Title': 'Third party cookies', 'Source': 'https://twitter.com/en/privacy', 'Status': 'approved', 'Analysis': 'Twitter uses third-party services that may collect your information, using cookies for instance. Twitter uses Google Analytics.', 'CreatedAt': '2018-01-16T15:27:17.196+00:00', 'UpdatedAt': '2019-01-25T16:04:14.778+00:00', 'QuoteText': 'They may also collect other personal data from you, such as cookie identifiers or your IP address.</p>', 'DocumentId': 90, 'QuoteStart': 16653, 'QuoteEnd': 16755, 'CaseId': 128, 'CaseTitle': 'Third-party cookies are used for advertising', 'CaseDescription': \"The service's website sets third-party cookies (cookies that do not belong to their domain) for purposes not including statistics and analytics.\", 'CaseClassification': 'bad'}, {'Id': 5833, 'Title': 'This service is only available to users of a certain age', 'Source': 'https://twitter.com/en/tos', 'Status': 'approved', 'Analysis': 'Generated through the annotate view', 'CreatedAt': '2019-02-16T19:18:21.348+00:00', 'UpdatedAt': '2019-02-20T06:48:19.145+00:00', 'QuoteText': 'In any case, you must be at least 13 years old,...\u001b[0m\n",
      "Thought:\u001b[32;1m\u001b[1;3m I now know the final answer\n",
      "Final Answer: Twitter requires users to be at least 13 years old.\u001b[0m\n",
      "\n",
      "\u001b[1m> Finished chain.\u001b[0m\n"
     ]
    },
    {
     "data": {
      "text/plain": [
       "'Twitter requires users to be at least 13 years old.'"
      ]
     },
     "execution_count": 61,
     "metadata": {},
     "output_type": "execute_result"
    }
   ],
   "source": [
    "json_agent_executor.run(\"please expand on it. suggest in detail\")"
   ]
  },
  {
   "cell_type": "code",
   "execution_count": 62,
   "id": "35e6434b-92a4-441b-ac13-2163a655f6f7",
   "metadata": {},
   "outputs": [],
   "source": [
    "memory.chat_memory.add_user_message(\"please expand on it. suggest in detail\")\n",
    "memory.chat_memory.add_ai_message(\"Twitter requires users to be at least 13 years old.\")"
   ]
  },
  {
   "cell_type": "code",
   "execution_count": 63,
   "id": "ee6bf190-49d3-490f-8fbd-dcd02acbc78d",
   "metadata": {},
   "outputs": [
    {
     "name": "stdout",
     "output_type": "stream",
     "text": [
      "\n",
      "\n",
      "\u001b[1m> Entering new AgentExecutor chain...\u001b[0m\n",
      "\u001b[32;1m\u001b[1;3mAction: json_spec_list_keys\n",
      "Action Input: data\u001b[0m\n",
      "Observation: \u001b[36;1m\u001b[1;3m['twitter', 'facebook']\u001b[0m\n",
      "Thought:\u001b[32;1m\u001b[1;3m I should look at the keys that exist in data['twitter'] to see what I have access to\n",
      "Action: json_spec_list_keys\n",
      "Action Input: data[\"twitter\"]\u001b[0m\n",
      "Observation: \u001b[36;1m\u001b[1;3m['Name', 'PointsToConsider']\u001b[0m\n",
      "Thought:\u001b[32;1m\u001b[1;3m I should look at the value of data['twitter']['Name'] to see what I have access to\n",
      "Action: json_spec_get_value\n",
      "Action Input: data[\"twitter\"][\"Name\"]\u001b[0m\n",
      "Observation: \u001b[33;1m\u001b[1;3mTwitter\u001b[0m\n",
      "Thought:\u001b[32;1m\u001b[1;3m I now know the final answer\n",
      "Final Answer: Twitter\u001b[0m\n",
      "\n",
      "\u001b[1m> Finished chain.\u001b[0m\n"
     ]
    },
    {
     "data": {
      "text/plain": [
       "'Twitter'"
      ]
     },
     "execution_count": 63,
     "metadata": {},
     "output_type": "execute_result"
    }
   ],
   "source": [
    "json_agent_executor.run(\"go on\")"
   ]
  },
  {
   "cell_type": "code",
   "execution_count": null,
   "id": "e37ba7ae-3a60-4a93-adc9-694e79b524e2",
   "metadata": {},
   "outputs": [],
   "source": []
  }
 ],
 "metadata": {
  "kernelspec": {
   "display_name": "Python 3 (ipykernel)",
   "language": "python",
   "name": "python3"
  },
  "language_info": {
   "codemirror_mode": {
    "name": "ipython",
    "version": 3
   },
   "file_extension": ".py",
   "mimetype": "text/x-python",
   "name": "python",
   "nbconvert_exporter": "python",
   "pygments_lexer": "ipython3",
   "version": "3.10.9"
  }
 },
 "nbformat": 4,
 "nbformat_minor": 5
}
